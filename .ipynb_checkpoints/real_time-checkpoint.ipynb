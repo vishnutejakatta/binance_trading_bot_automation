{
 "cells": [
  {
   "cell_type": "code",
   "execution_count": 65,
   "metadata": {},
   "outputs": [],
   "source": [
    "import pandas as pd"
   ]
  },
  {
   "cell_type": "code",
   "execution_count": 66,
   "metadata": {},
   "outputs": [],
   "source": [
    "from trading_bot.agent import Agent\n",
    "model_name = 'model_double-dqn_GOOG_50'\n",
    "test_stock = 'data/BTCUSDT_TESTING.csv'\n",
    "window_size = 10\n",
    "debug = True\n",
    "agent = Agent(window_size, pretrained=True, model_name=model_name)"
   ]
  },
  {
   "cell_type": "code",
   "execution_count": 67,
   "metadata": {},
   "outputs": [
    {
     "data": {
      "text/html": [
       "<div>\n",
       "<style scoped>\n",
       "    .dataframe tbody tr th:only-of-type {\n",
       "        vertical-align: middle;\n",
       "    }\n",
       "\n",
       "    .dataframe tbody tr th {\n",
       "        vertical-align: top;\n",
       "    }\n",
       "\n",
       "    .dataframe thead th {\n",
       "        text-align: right;\n",
       "    }\n",
       "</style>\n",
       "<table border=\"1\" class=\"dataframe\">\n",
       "  <thead>\n",
       "    <tr style=\"text-align: right;\">\n",
       "      <th></th>\n",
       "      <th>date</th>\n",
       "      <th>actual</th>\n",
       "    </tr>\n",
       "  </thead>\n",
       "  <tbody>\n",
       "    <tr>\n",
       "      <th>0</th>\n",
       "      <td>2019-08-23</td>\n",
       "      <td>10389.55</td>\n",
       "    </tr>\n",
       "    <tr>\n",
       "      <th>1</th>\n",
       "      <td>2019-08-24</td>\n",
       "      <td>10134.35</td>\n",
       "    </tr>\n",
       "    <tr>\n",
       "      <th>2</th>\n",
       "      <td>2019-08-25</td>\n",
       "      <td>10142.69</td>\n",
       "    </tr>\n",
       "    <tr>\n",
       "      <th>3</th>\n",
       "      <td>2019-08-26</td>\n",
       "      <td>10372.25</td>\n",
       "    </tr>\n",
       "    <tr>\n",
       "      <th>4</th>\n",
       "      <td>2019-08-27</td>\n",
       "      <td>10185.05</td>\n",
       "    </tr>\n",
       "    <tr>\n",
       "      <th>...</th>\n",
       "      <td>...</td>\n",
       "      <td>...</td>\n",
       "    </tr>\n",
       "    <tr>\n",
       "      <th>248</th>\n",
       "      <td>2020-04-27</td>\n",
       "      <td>7774.62</td>\n",
       "    </tr>\n",
       "    <tr>\n",
       "      <th>249</th>\n",
       "      <td>2020-04-28</td>\n",
       "      <td>7738.98</td>\n",
       "    </tr>\n",
       "    <tr>\n",
       "      <th>250</th>\n",
       "      <td>2020-04-29</td>\n",
       "      <td>8778.57</td>\n",
       "    </tr>\n",
       "    <tr>\n",
       "      <th>251</th>\n",
       "      <td>2020-04-30</td>\n",
       "      <td>8620.00</td>\n",
       "    </tr>\n",
       "    <tr>\n",
       "      <th>252</th>\n",
       "      <td>2020-05-01</td>\n",
       "      <td>8826.96</td>\n",
       "    </tr>\n",
       "  </tbody>\n",
       "</table>\n",
       "<p>253 rows × 2 columns</p>\n",
       "</div>"
      ],
      "text/plain": [
       "          date    actual\n",
       "0   2019-08-23  10389.55\n",
       "1   2019-08-24  10134.35\n",
       "2   2019-08-25  10142.69\n",
       "3   2019-08-26  10372.25\n",
       "4   2019-08-27  10185.05\n",
       "..         ...       ...\n",
       "248 2020-04-27   7774.62\n",
       "249 2020-04-28   7738.98\n",
       "250 2020-04-29   8778.57\n",
       "251 2020-04-30   8620.00\n",
       "252 2020-05-01   8826.96\n",
       "\n",
       "[253 rows x 2 columns]"
      ]
     },
     "execution_count": 67,
     "metadata": {},
     "output_type": "execute_result"
    }
   ],
   "source": [
    "df = pd.read_csv(test_stock)\n",
    "df = df[['Date', 'Close']]\n",
    "df = df.rename(columns={'Close': 'actual', 'Date': 'date'})\n",
    "dates = df['date']\n",
    "dates = pd.to_datetime(dates, infer_datetime_format=True)\n",
    "df['date'] = dates\n",
    "df"
   ]
  },
  {
   "cell_type": "code",
   "execution_count": 68,
   "metadata": {
    "scrolled": false
   },
   "outputs": [
    {
     "name": "stderr",
     "output_type": "stream",
     "text": [
      "2020-05-26 15:38:24 darkdevil root[19100] DEBUG switching to TensorFlow for CPU\n"
     ]
    },
    {
     "name": "stdout",
     "output_type": "stream",
     "text": [
      "[[0.5 0.5 0.5 0.5 0.5 0.5 0.5 0.5 0.5 0.5]]\n"
     ]
    },
    {
     "name": "stderr",
     "output_type": "stream",
     "text": [
      "2020-05-26 15:38:34 darkdevil root[19100] DEBUG Buy at: $10389.55\n",
      "2020-05-26 15:38:37 darkdevil root[19100] DEBUG Buy at: $10134.35\n",
      "2020-05-26 15:38:37 darkdevil root[19100] DEBUG Sell at: $10142.69 | Position: -$246.86\n",
      "2020-05-26 15:38:37 darkdevil root[19100] DEBUG Buy at: $10372.25\n",
      "2020-05-26 15:38:37 darkdevil root[19100] DEBUG Buy at: $10185.05\n",
      "2020-05-26 15:38:37 darkdevil root[19100] DEBUG Buy at: $9721.00\n",
      "2020-05-26 15:38:37 darkdevil root[19100] DEBUG Buy at: $9498.44\n",
      "2020-05-26 15:38:37 darkdevil root[19100] DEBUG Buy at: $9584.54\n",
      "2020-05-26 15:38:37 darkdevil root[19100] DEBUG Buy at: $9587.47\n",
      "2020-05-26 15:38:37 darkdevil root[19100] DEBUG Sell at: $9724.98 | Position: -$409.37\n",
      "2020-05-26 15:38:37 darkdevil root[19100] DEBUG Sell at: $10340.00 | Position: -$32.25\n",
      "2020-05-26 15:38:37 darkdevil root[19100] DEBUG Sell at: $10615.28 | Position: +$430.23\n",
      "2020-05-26 15:38:37 darkdevil root[19100] DEBUG Buy at: $10567.02\n",
      "2020-05-26 15:38:37 darkdevil root[19100] DEBUG Buy at: $10564.49\n",
      "2020-05-26 15:38:37 darkdevil root[19100] DEBUG Buy at: $10298.73\n",
      "2020-05-26 15:38:37 darkdevil root[19100] DEBUG Sell at: $10455.88 | Position: +$734.88\n",
      "2020-05-26 15:38:37 darkdevil root[19100] DEBUG Sell at: $10381.18 | Position: +$882.74\n",
      "2020-05-26 15:38:37 darkdevil root[19100] DEBUG Buy at: $10303.12\n",
      "2020-05-26 15:38:37 darkdevil root[19100] DEBUG Buy at: $10098.15\n",
      "2020-05-26 15:38:37 darkdevil root[19100] DEBUG Buy at: $10158.33\n",
      "2020-05-26 15:38:37 darkdevil root[19100] DEBUG Buy at: $10415.01\n",
      "2020-05-26 15:38:37 darkdevil root[19100] DEBUG Buy at: $10342.06\n",
      "2020-05-26 15:38:37 darkdevil root[19100] DEBUG Sell at: $8198.81 | Position: -$1385.73\n",
      "2020-05-26 15:38:37 darkdevil root[19100] DEBUG Sell at: $8043.82 | Position: -$1543.65\n",
      "2020-05-26 15:38:37 darkdevil root[19100] DEBUG Sell at: $8289.34 | Position: -$2277.68\n",
      "2020-05-26 15:38:37 darkdevil root[19100] DEBUG Buy at: $8292.44\n",
      "2020-05-26 15:38:37 darkdevil root[19100] DEBUG Sell at: $8359.94 | Position: -$2204.55\n",
      "2020-05-26 15:38:37 darkdevil root[19100] DEBUG Sell at: $8223.96 | Position: -$2074.77\n",
      "2020-05-26 15:38:37 darkdevil root[19100] DEBUG Buy at: $8137.13\n",
      "2020-05-26 15:38:37 darkdevil root[19100] DEBUG Buy at: $8126.19\n",
      "2020-05-26 15:38:37 darkdevil root[19100] DEBUG Buy at: $7854.25\n",
      "2020-05-26 15:38:37 darkdevil root[19100] DEBUG Buy at: $8190.09\n",
      "2020-05-26 15:38:37 darkdevil root[19100] DEBUG Sell at: $8168.39 | Position: -$2134.73\n",
      "2020-05-26 15:38:37 darkdevil root[19100] DEBUG Buy at: $8560.74\n",
      "2020-05-26 15:38:38 darkdevil root[19100] DEBUG Sell at: $9194.71 | Position: -$903.44\n",
      "2020-05-26 15:38:38 darkdevil root[19100] DEBUG Sell at: $9393.35 | Position: -$764.98\n",
      "2020-05-26 15:38:38 darkdevil root[19100] DEBUG Buy at: $9308.66\n",
      "2020-05-26 15:38:38 darkdevil root[19100] DEBUG Sell at: $9339.05 | Position: -$1075.96\n",
      "2020-05-26 15:38:38 darkdevil root[19100] DEBUG Sell at: $9216.20 | Position: -$1125.86\n",
      "2020-05-26 15:38:38 darkdevil root[19100] DEBUG Buy at: $8773.73\n",
      "2020-05-26 15:38:38 darkdevil root[19100] DEBUG Buy at: $8809.41\n",
      "2020-05-26 15:38:38 darkdevil root[19100] DEBUG Sell at: $9039.47 | Position: +$747.03\n",
      "2020-05-26 15:38:38 darkdevil root[19100] DEBUG Buy at: $8733.27\n",
      "2020-05-26 15:38:38 darkdevil root[19100] DEBUG Sell at: $8821.94 | Position: +$684.81\n",
      "2020-05-26 15:38:38 darkdevil root[19100] DEBUG Buy at: $8777.12\n",
      "2020-05-26 15:38:38 darkdevil root[19100] DEBUG Buy at: $8646.68\n",
      "2020-05-26 15:38:38 darkdevil root[19100] DEBUG Sell at: $7419.49 | Position: -$706.70\n",
      "2020-05-26 15:38:38 darkdevil root[19100] DEBUG Sell at: $7739.68 | Position: -$114.57\n",
      "2020-05-26 15:38:38 darkdevil root[19100] DEBUG Buy at: $7541.89\n",
      "2020-05-26 15:38:38 darkdevil root[19100] DEBUG Buy at: $7390.89\n",
      "2020-05-26 15:38:38 darkdevil root[19100] DEBUG Sell at: $6891.72 | Position: -$1298.37\n",
      "2020-05-26 15:38:38 darkdevil root[19100] DEBUG Buy at: $6623.82\n",
      "2020-05-26 15:38:38 darkdevil root[19100] DEBUG Sell at: $7501.44 | Position: -$1059.30\n",
      "2020-05-26 15:38:38 darkdevil root[19100] DEBUG Buy at: $7317.09\n",
      "2020-05-26 15:38:38 darkdevil root[19100] DEBUG Sell at: $7316.14 | Position: -$1992.52\n",
      "2020-05-26 15:38:38 darkdevil root[19100] DEBUG Buy at: $7388.24\n",
      "2020-05-26 15:38:38 darkdevil root[19100] DEBUG Sell at: $7246.00 | Position: -$1527.73\n",
      "2020-05-26 15:38:38 darkdevil root[19100] DEBUG Buy at: $7195.23\n",
      "2020-05-26 15:38:38 darkdevil root[19100] DEBUG Sell at: $7344.96 | Position: -$1464.45\n",
      "2020-05-26 15:38:38 darkdevil root[19100] DEBUG Sell at: $7354.11 | Position: -$1379.16\n",
      "2020-05-26 15:38:38 darkdevil root[19100] DEBUG Sell at: $7358.75 | Position: -$1418.37\n",
      "2020-05-26 15:38:38 darkdevil root[19100] DEBUG Sell at: $7758.00 | Position: -$888.68\n",
      "2020-05-26 15:38:38 darkdevil root[19100] DEBUG Sell at: $8145.28 | Position: +$603.39\n",
      "2020-05-26 15:38:38 darkdevil root[19100] DEBUG Sell at: $8055.98 | Position: +$665.09\n",
      "2020-05-26 15:38:38 darkdevil root[19100] DEBUG Sell at: $7817.76 | Position: +$1193.94\n",
      "2020-05-26 15:38:38 darkdevil root[19100] DEBUG Sell at: $8197.02 | Position: +$879.93\n",
      "2020-05-26 15:38:38 darkdevil root[19100] DEBUG Buy at: $8020.01\n",
      "2020-05-26 15:38:38 darkdevil root[19100] DEBUG Sell at: $8184.98 | Position: +$796.74\n",
      "2020-05-26 15:38:38 darkdevil root[19100] DEBUG Buy at: $8110.34\n",
      "2020-05-26 15:38:38 darkdevil root[19100] DEBUG Buy at: $8810.01\n",
      "2020-05-26 15:38:38 darkdevil root[19100] DEBUG Sell at: $8821.41 | Position: +$1626.18\n",
      "2020-05-26 15:38:38 darkdevil root[19100] DEBUG Sell at: $8720.01 | Position: +$700.00\n",
      "2020-05-26 15:38:38 darkdevil root[19100] DEBUG Sell at: $8913.28 | Position: +$802.94\n",
      "2020-05-26 15:38:38 darkdevil root[19100] DEBUG Sell at: $8915.96 | Position: +$105.95\n",
      "2020-05-26 15:38:38 darkdevil root[19100] DEBUG Buy at: $8642.35\n",
      "2020-05-26 15:38:38 darkdevil root[19100] DEBUG Sell at: $8736.03 | Position: +$93.68\n",
      "2020-05-26 15:38:38 darkdevil root[19100] DEBUG Buy at: $8404.52\n",
      "2020-05-26 15:38:38 darkdevil root[19100] DEBUG Sell at: $8439.00 | Position: +$34.48\n",
      "2020-05-26 15:38:38 darkdevil root[19100] DEBUG Buy at: $8340.58\n",
      "2020-05-26 15:38:38 darkdevil root[19100] DEBUG Sell at: $8615.00 | Position: +$274.42\n",
      "2020-05-26 15:38:38 darkdevil root[19100] DEBUG Buy at: $9374.21\n",
      "2020-05-26 15:38:38 darkdevil root[19100] DEBUG Buy at: $9301.53\n",
      "2020-05-26 15:38:38 darkdevil root[19100] DEBUG Buy at: $9513.21\n",
      "2020-05-26 15:38:38 darkdevil root[19100] DEBUG Buy at: $9352.89\n",
      "2020-05-26 15:38:38 darkdevil root[19100] DEBUG Sell at: $9384.61 | Position: +$10.40\n",
      "2020-05-26 15:38:38 darkdevil root[19100] DEBUG Sell at: $9331.51 | Position: +$29.98\n",
      "2020-05-26 15:38:38 darkdevil root[19100] DEBUG Buy at: $9292.24\n",
      "2020-05-26 15:38:38 darkdevil root[19100] DEBUG Buy at: $9197.02\n",
      "2020-05-26 15:38:38 darkdevil root[19100] DEBUG Buy at: $9612.04\n",
      "2020-05-26 15:38:38 darkdevil root[19100] DEBUG Buy at: $9772.00\n",
      "2020-05-26 15:38:38 darkdevil root[19100] DEBUG Sell at: $9813.73 | Position: +$300.52\n",
      "2020-05-26 15:38:38 darkdevil root[19100] DEBUG Buy at: $9895.05\n",
      "2020-05-26 15:38:38 darkdevil root[19100] DEBUG Sell at: $10151.75 | Position: +$798.86\n",
      "2020-05-26 15:38:38 darkdevil root[19100] DEBUG Buy at: $9851.83\n",
      "2020-05-26 15:38:38 darkdevil root[19100] DEBUG Sell at: $10223.08 | Position: +$930.84\n",
      "2020-05-26 15:38:38 darkdevil root[19100] DEBUG Sell at: $10326.46 | Position: +$1129.44\n",
      "2020-05-26 15:38:38 darkdevil root[19100] DEBUG Buy at: $10229.63\n",
      "2020-05-26 15:38:38 darkdevil root[19100] DEBUG Sell at: $10344.36 | Position: +$732.32\n",
      "2020-05-26 15:38:38 darkdevil root[19100] DEBUG Sell at: $9904.72 | Position: +$132.72\n",
      "2020-05-26 15:38:38 darkdevil root[19100] DEBUG Sell at: $9917.27 | Position: +$22.22\n",
      "2020-05-26 15:38:38 darkdevil root[19100] DEBUG Sell at: $9706.00 | Position: -$145.83\n",
      "2020-05-26 15:38:38 darkdevil root[19100] DEBUG Sell at: $10164.71 | Position: -$64.92\n",
      "2020-05-26 15:38:38 darkdevil root[19100] DEBUG Buy at: $9650.86\n",
      "2020-05-26 15:38:38 darkdevil root[19100] DEBUG Sell at: $9936.40 | Position: +$285.54\n",
      "2020-05-26 15:38:38 darkdevil root[19100] DEBUG Buy at: $9656.13\n",
      "2020-05-26 15:38:38 darkdevil root[19100] DEBUG Sell at: $9315.84 | Position: -$340.29\n",
      "2020-05-26 15:38:38 darkdevil root[19100] DEBUG Buy at: $8785.25\n",
      "2020-05-26 15:38:38 darkdevil root[19100] DEBUG Buy at: $8692.91\n"
     ]
    },
    {
     "name": "stderr",
     "output_type": "stream",
     "text": [
      "2020-05-26 15:38:38 darkdevil root[19100] DEBUG Buy at: $8523.61\n",
      "2020-05-26 15:38:38 darkdevil root[19100] DEBUG Buy at: $8531.88\n",
      "2020-05-26 15:38:38 darkdevil root[19100] DEBUG Buy at: $8915.24\n",
      "2020-05-26 15:38:38 darkdevil root[19100] DEBUG Sell at: $8760.07 | Position: -$25.18\n",
      "2020-05-26 15:38:38 darkdevil root[19100] DEBUG Buy at: $8750.87\n",
      "2020-05-26 15:38:38 darkdevil root[19100] DEBUG Buy at: $9054.68\n",
      "2020-05-26 15:38:38 darkdevil root[19100] DEBUG Sell at: $9131.88 | Position: +$438.97\n",
      "2020-05-26 15:38:39 darkdevil root[19100] DEBUG Buy at: $8886.66\n",
      "2020-05-26 15:38:39 darkdevil root[19100] DEBUG Buy at: $8033.31\n",
      "2020-05-26 15:38:39 darkdevil root[19100] DEBUG Buy at: $7929.87\n",
      "2020-05-26 15:38:39 darkdevil root[19100] DEBUG Buy at: $7894.56\n",
      "2020-05-26 15:38:39 darkdevil root[19100] DEBUG Buy at: $7934.52\n",
      "2020-05-26 15:38:39 darkdevil root[19100] DEBUG Sell at: $5028.97 | Position: -$3494.64\n",
      "2020-05-26 15:38:39 darkdevil root[19100] DEBUG Sell at: $5312.64 | Position: -$3219.24\n",
      "2020-05-26 15:38:39 darkdevil root[19100] DEBUG Sell at: $5393.04 | Position: -$3522.20\n",
      "2020-05-26 15:38:39 darkdevil root[19100] DEBUG Sell at: $6162.37 | Position: -$2588.50\n",
      "2020-05-26 15:38:39 darkdevil root[19100] DEBUG Sell at: $6208.36 | Position: -$2846.32\n",
      "2020-05-26 15:38:39 darkdevil root[19100] DEBUG Sell at: $6186.98 | Position: -$2699.68\n",
      "2020-05-26 15:38:39 darkdevil root[19100] DEBUG Buy at: $5816.19\n",
      "2020-05-26 15:38:39 darkdevil root[19100] DEBUG Sell at: $6467.31 | Position: -$1566.00\n",
      "2020-05-26 15:38:39 darkdevil root[19100] DEBUG Sell at: $6744.72 | Position: -$1185.15\n",
      "2020-05-26 15:38:39 darkdevil root[19100] DEBUG Sell at: $6677.43 | Position: -$1217.13\n",
      "2020-05-26 15:38:39 darkdevil root[19100] DEBUG Sell at: $6737.36 | Position: -$1197.16\n",
      "2020-05-26 15:38:39 darkdevil root[19100] DEBUG Sell at: $6359.11 | Position: +$542.92\n",
      "2020-05-26 15:38:39 darkdevil root[19100] DEBUG Buy at: $6236.65\n",
      "2020-05-26 15:38:39 darkdevil root[19100] DEBUG Buy at: $5881.42\n",
      "2020-05-26 15:38:39 darkdevil root[19100] DEBUG Buy at: $6410.44\n",
      "2020-05-26 15:38:39 darkdevil root[19100] DEBUG Buy at: $6642.92\n",
      "2020-05-26 15:38:39 darkdevil root[19100] DEBUG Buy at: $6794.09\n",
      "2020-05-26 15:38:39 darkdevil root[19100] DEBUG Buy at: $6734.10\n",
      "2020-05-26 15:38:39 darkdevil root[19100] DEBUG Sell at: $6856.99 | Position: +$620.34\n",
      "2020-05-26 15:38:39 darkdevil root[19100] DEBUG Buy at: $6772.78\n",
      "2020-05-26 15:38:39 darkdevil root[19100] DEBUG Sell at: $7329.90 | Position: +$1448.48\n",
      "2020-05-26 15:38:39 darkdevil root[19100] DEBUG Sell at: $7197.32 | Position: +$786.88\n",
      "2020-05-26 15:38:39 darkdevil root[19100] DEBUG Sell at: $7361.28 | Position: +$718.36\n",
      "2020-05-26 15:38:39 darkdevil root[19100] DEBUG Sell at: $7283.54 | Position: +$489.45\n",
      "2020-05-26 15:38:39 darkdevil root[19100] DEBUG Sell at: $6858.92 | Position: +$124.82\n",
      "2020-05-26 15:38:39 darkdevil root[19100] DEBUG Buy at: $6876.83\n",
      "2020-05-26 15:38:39 darkdevil root[19100] DEBUG Buy at: $6903.79\n",
      "2020-05-26 15:38:39 darkdevil root[19100] DEBUG Buy at: $6837.91\n",
      "2020-05-26 15:38:39 darkdevil root[19100] DEBUG Sell at: $6868.70 | Position: +$95.92\n",
      "2020-05-26 15:38:39 darkdevil root[19100] DEBUG Buy at: $6621.24\n",
      "2020-05-26 15:38:39 darkdevil root[19100] DEBUG Sell at: $7101.94 | Position: +$225.11\n",
      "2020-05-26 15:38:39 darkdevil root[19100] DEBUG Sell at: $7027.55 | Position: +$123.76\n",
      "2020-05-26 15:38:39 darkdevil root[19100] DEBUG Sell at: $7248.60 | Position: +$410.69\n",
      "2020-05-26 15:38:39 darkdevil root[19100] DEBUG Sell at: $7120.74 | Position: +$499.50\n",
      "2020-05-26 15:38:39 darkdevil root[19100] DEBUG Buy at: $6841.37\n",
      "2020-05-26 15:38:39 darkdevil root[19100] DEBUG Buy at: $7125.14\n",
      "2020-05-26 15:38:39 darkdevil root[19100] DEBUG Buy at: $7482.39\n",
      "2020-05-26 15:38:39 darkdevil root[19100] DEBUG Buy at: $7505.00\n",
      "2020-05-26 15:38:39 darkdevil root[19100] DEBUG Sell at: $7538.67 | Position: +$697.30\n",
      "2020-05-26 15:38:39 darkdevil root[19100] DEBUG Sell at: $7693.10 | Position: +$567.96\n",
      "2020-05-26 15:38:39 darkdevil root[19100] DEBUG Sell at: $7774.62 | Position: +$292.23\n",
      "2020-05-26 15:38:39 darkdevil root[19100] DEBUG Sell at: $7738.98 | Position: +$233.98\n",
      "2020-05-26 15:38:39 darkdevil root[19100] INFO model_double-dqn_GOOG_50: -$28195.98\n",
      "\n"
     ]
    }
   ],
   "source": [
    "import logging\n",
    "import coloredlogs\n",
    "\n",
    "from trading_bot.utils import show_eval_result, switch_k_backend_device, get_stock_data\n",
    "from trading_bot.methods import evaluate_model\n",
    "\n",
    "coloredlogs.install(level='DEBUG')\n",
    "switch_k_backend_device()\n",
    "\n",
    "test_data = get_stock_data(test_stock)\n",
    "initial_offset = test_data[1] - test_data[0]\n",
    "\n",
    "test_result, history = evaluate_model(agent, test_data, window_size, debug)\n",
    "show_eval_result(model_name, test_result, initial_offset)"
   ]
  },
  {
   "cell_type": "code",
   "execution_count": 69,
   "metadata": {},
   "outputs": [],
   "source": [
    "import lxml.html as lh\n",
    "import time\n",
    "import urllib.request\n",
    "import argparse\n",
    "import urllib.request, urllib.parse, urllib.error\n",
    "import datetime\n",
    "import pytz\n",
    "from selenium import webdriver\n",
    "from selenium.common.exceptions import StaleElementReferenceException\n",
    "import os\n",
    "import coloredlogs\n",
    "import json\n",
    "import ssl\n",
    "from docopt import docopt\n",
    "from trading_bot.ops import get_state\n",
    "from trading_bot.agent import Agent\n",
    "from trading_bot.utils import (\n",
    "    get_stock_data,\n",
    "    format_currency,\n",
    "    format_position,\n",
    "    show_eval_result,\n",
    "    switch_k_backend_device\n",
    ")"
   ]
  },
  {
   "cell_type": "code",
   "execution_count": 70,
   "metadata": {},
   "outputs": [],
   "source": [
    "tz = pytz.timezone('Asia/Kolkata')\n",
    "ctx = ssl.create_default_context()\n",
    "ctx.check_hostname = False\n",
    "ctx.verify_mode = ssl.CERT_NONE"
   ]
  },
  {
   "cell_type": "code",
   "execution_count": 71,
   "metadata": {},
   "outputs": [],
   "source": [
    "def Real(url):\n",
    "    uh = urllib.request.urlopen(url, context=ctx)\n",
    "    data = uh.read().decode()\n",
    "    info = json.loads(data)\n",
    "    live = info['price'];\n",
    "    time.sleep(1)\n",
    "    return float(live)"
   ]
  },
  {
   "cell_type": "code",
   "execution_count": 72,
   "metadata": {},
   "outputs": [],
   "source": [
    "def evaluate_model(agent, state, next_state, data, t, total_profit, history, reward, window_size, debug=True):\n",
    "    action = agent.act(state, is_eval=True)\n",
    "    # BUY\n",
    "    if action == 1:\n",
    "        agent.inventory.append(data[t])\n",
    "        history.append((data[t], \"BUY\"))\n",
    "        if debug:\n",
    "            logging.debug(\"Buy at: {}\".format(format_currency(data[t])))\n",
    "    # SELL\n",
    "    elif action == 2 and len(agent.inventory) > 0:\n",
    "        bought_price = agent.inventory.pop(0)\n",
    "        delta = data[t] - bought_price\n",
    "        reward = delta #max(delta, 0)\n",
    "        total_profit += delta\n",
    "        history.append((data[t], \"SELL\"))\n",
    "        if debug:\n",
    "            logging.debug(\"Sell at: {} | Position: {}\".format(\n",
    "                    format_currency(data[t]), format_position(data[t] - bought_price)))\n",
    "    # HOLD\n",
    "    else:\n",
    "        history.append((data[t], \"HOLD\"))\n",
    "\n",
    "    agent.memory.append((state, action, reward, next_state))\n",
    "    return total_profit"
   ]
  },
  {
   "cell_type": "code",
   "execution_count": 73,
   "metadata": {},
   "outputs": [],
   "source": [
    "def main(args):\n",
    "    count = 0\n",
    "    total_profit = 0\n",
    "    t=0\n",
    "    history = []\n",
    "    reward = 0\n",
    "    price = []\n",
    "    window_size = 10\n",
    "    time_now = datetime.datetime.now(tz).time()\n",
    "    while(count < 50):\n",
    "        url = 'https://api.binance.com/api/v1/ticker/price?symbol={}'.format(args.ticker)\n",
    "        live = Real(url)\n",
    "        count+=1        \n",
    "        price.append(live)\n",
    "        if count < window_size:\n",
    "           continue\n",
    "        model_name='model_double-dqn_GOOG_50'  \n",
    "        print(live)\n",
    "        initial_offset = price[1] - price[0]\n",
    "        state = get_state(price, 0, window_size + 1)\n",
    "        next_state = get_state(price, t + 1, window_size + 1)\n",
    "        agent = Agent(state_size=window_size, pretrained=True, model_name=model_name)\n",
    "        agent.inventory = []\n",
    "        profit = evaluate_model(agent,state,next_state, price, t, total_profit, history, reward, window_size=window_size)\n",
    "        show_eval_result(model_name, profit, initial_offset)\n",
    "        t+=1\n",
    "        state = next_state"
   ]
  },
  {
   "cell_type": "code",
   "execution_count": 74,
   "metadata": {
    "scrolled": false
   },
   "outputs": [
    {
     "name": "stderr",
     "output_type": "stream",
     "text": [
      "2020-05-26 15:39:33 darkdevil root[19100] DEBUG switching to TensorFlow for CPU\n"
     ]
    },
    {
     "name": "stdout",
     "output_type": "stream",
     "text": [
      "8862.6\n"
     ]
    },
    {
     "name": "stderr",
     "output_type": "stream",
     "text": [
      "2020-05-26 15:39:46 darkdevil root[19100] DEBUG Buy at: $8856.60\n",
      "2020-05-26 15:39:46 darkdevil root[19100] INFO model_double-dqn_GOOG_50: USELESS\n",
      "\n"
     ]
    },
    {
     "name": "stdout",
     "output_type": "stream",
     "text": [
      "8860.31\n"
     ]
    },
    {
     "name": "stderr",
     "output_type": "stream",
     "text": [
      "2020-05-26 15:39:49 darkdevil root[19100] DEBUG Buy at: $8857.02\n",
      "2020-05-26 15:39:49 darkdevil root[19100] INFO model_double-dqn_GOOG_50: USELESS\n",
      "\n"
     ]
    },
    {
     "name": "stdout",
     "output_type": "stream",
     "text": [
      "8860.56\n"
     ]
    },
    {
     "name": "stderr",
     "output_type": "stream",
     "text": [
      "2020-05-26 15:39:51 darkdevil root[19100] DEBUG Buy at: $8856.59\n",
      "2020-05-26 15:39:51 darkdevil root[19100] INFO model_double-dqn_GOOG_50: USELESS\n",
      "\n"
     ]
    },
    {
     "name": "stdout",
     "output_type": "stream",
     "text": [
      "8858.21\n"
     ]
    },
    {
     "name": "stderr",
     "output_type": "stream",
     "text": [
      "2020-05-26 15:39:53 darkdevil root[19100] DEBUG Buy at: $8858.00\n",
      "2020-05-26 15:39:53 darkdevil root[19100] INFO model_double-dqn_GOOG_50: USELESS\n",
      "\n"
     ]
    },
    {
     "name": "stdout",
     "output_type": "stream",
     "text": [
      "8857.0\n"
     ]
    },
    {
     "name": "stderr",
     "output_type": "stream",
     "text": [
      "2020-05-26 15:39:56 darkdevil root[19100] DEBUG Buy at: $8858.00\n",
      "2020-05-26 15:39:56 darkdevil root[19100] INFO model_double-dqn_GOOG_50: USELESS\n",
      "\n"
     ]
    },
    {
     "name": "stdout",
     "output_type": "stream",
     "text": [
      "8855.0\n"
     ]
    },
    {
     "name": "stderr",
     "output_type": "stream",
     "text": [
      "2020-05-26 15:39:58 darkdevil root[19100] DEBUG Buy at: $8856.63\n",
      "2020-05-26 15:39:58 darkdevil root[19100] INFO model_double-dqn_GOOG_50: USELESS\n",
      "\n"
     ]
    },
    {
     "name": "stdout",
     "output_type": "stream",
     "text": [
      "8856.87\n"
     ]
    },
    {
     "name": "stderr",
     "output_type": "stream",
     "text": [
      "2020-05-26 15:40:00 darkdevil root[19100] DEBUG Buy at: $8857.79\n",
      "2020-05-26 15:40:00 darkdevil root[19100] INFO model_double-dqn_GOOG_50: USELESS\n",
      "\n"
     ]
    },
    {
     "name": "stdout",
     "output_type": "stream",
     "text": [
      "8858.32\n"
     ]
    },
    {
     "name": "stderr",
     "output_type": "stream",
     "text": [
      "2020-05-26 15:40:03 darkdevil root[19100] DEBUG Buy at: $8858.08\n",
      "2020-05-26 15:40:03 darkdevil root[19100] INFO model_double-dqn_GOOG_50: USELESS\n",
      "\n"
     ]
    },
    {
     "name": "stdout",
     "output_type": "stream",
     "text": [
      "8856.01\n"
     ]
    },
    {
     "name": "stderr",
     "output_type": "stream",
     "text": [
      "2020-05-26 15:40:06 darkdevil root[19100] DEBUG Buy at: $8862.92\n",
      "2020-05-26 15:40:06 darkdevil root[19100] INFO model_double-dqn_GOOG_50: USELESS\n",
      "\n"
     ]
    },
    {
     "name": "stdout",
     "output_type": "stream",
     "text": [
      "8855.75\n"
     ]
    },
    {
     "name": "stderr",
     "output_type": "stream",
     "text": [
      "2020-05-26 15:40:08 darkdevil root[19100] DEBUG Buy at: $8862.60\n",
      "2020-05-26 15:40:08 darkdevil root[19100] INFO model_double-dqn_GOOG_50: USELESS\n",
      "\n"
     ]
    },
    {
     "name": "stdout",
     "output_type": "stream",
     "text": [
      "8857.53\n"
     ]
    },
    {
     "name": "stderr",
     "output_type": "stream",
     "text": [
      "2020-05-26 15:40:11 darkdevil root[19100] DEBUG Buy at: $8860.31\n",
      "2020-05-26 15:40:11 darkdevil root[19100] INFO model_double-dqn_GOOG_50: USELESS\n",
      "\n"
     ]
    },
    {
     "name": "stdout",
     "output_type": "stream",
     "text": [
      "8855.82\n"
     ]
    },
    {
     "name": "stderr",
     "output_type": "stream",
     "text": [
      "2020-05-26 15:40:13 darkdevil root[19100] DEBUG Buy at: $8860.56\n",
      "2020-05-26 15:40:13 darkdevil root[19100] INFO model_double-dqn_GOOG_50: USELESS\n",
      "\n"
     ]
    },
    {
     "name": "stdout",
     "output_type": "stream",
     "text": [
      "8855.01\n"
     ]
    },
    {
     "name": "stderr",
     "output_type": "stream",
     "text": [
      "2020-05-26 15:40:16 darkdevil root[19100] DEBUG Buy at: $8858.21\n",
      "2020-05-26 15:40:16 darkdevil root[19100] INFO model_double-dqn_GOOG_50: USELESS\n",
      "\n"
     ]
    },
    {
     "name": "stdout",
     "output_type": "stream",
     "text": [
      "8856.55\n"
     ]
    },
    {
     "name": "stderr",
     "output_type": "stream",
     "text": [
      "2020-05-26 15:40:18 darkdevil root[19100] DEBUG Buy at: $8857.00\n",
      "2020-05-26 15:40:18 darkdevil root[19100] INFO model_double-dqn_GOOG_50: USELESS\n",
      "\n"
     ]
    },
    {
     "name": "stdout",
     "output_type": "stream",
     "text": [
      "8855.94\n"
     ]
    },
    {
     "name": "stderr",
     "output_type": "stream",
     "text": [
      "2020-05-26 15:40:20 darkdevil root[19100] DEBUG Buy at: $8855.00\n",
      "2020-05-26 15:40:20 darkdevil root[19100] INFO model_double-dqn_GOOG_50: USELESS\n",
      "\n"
     ]
    },
    {
     "name": "stdout",
     "output_type": "stream",
     "text": [
      "8856.85\n"
     ]
    },
    {
     "name": "stderr",
     "output_type": "stream",
     "text": [
      "2020-05-26 15:40:23 darkdevil root[19100] DEBUG Buy at: $8856.87\n",
      "2020-05-26 15:40:23 darkdevil root[19100] INFO model_double-dqn_GOOG_50: USELESS\n",
      "\n"
     ]
    },
    {
     "name": "stdout",
     "output_type": "stream",
     "text": [
      "8855.0\n"
     ]
    },
    {
     "name": "stderr",
     "output_type": "stream",
     "text": [
      "2020-05-26 15:40:25 darkdevil root[19100] DEBUG Buy at: $8858.32\n",
      "2020-05-26 15:40:25 darkdevil root[19100] INFO model_double-dqn_GOOG_50: USELESS\n",
      "\n"
     ]
    },
    {
     "name": "stdout",
     "output_type": "stream",
     "text": [
      "8855.0\n"
     ]
    },
    {
     "name": "stderr",
     "output_type": "stream",
     "text": [
      "2020-05-26 15:40:27 darkdevil root[19100] DEBUG Buy at: $8856.01\n",
      "2020-05-26 15:40:27 darkdevil root[19100] INFO model_double-dqn_GOOG_50: USELESS\n",
      "\n"
     ]
    },
    {
     "name": "stdout",
     "output_type": "stream",
     "text": [
      "8855.09\n"
     ]
    },
    {
     "name": "stderr",
     "output_type": "stream",
     "text": [
      "2020-05-26 15:40:30 darkdevil root[19100] DEBUG Buy at: $8855.75\n",
      "2020-05-26 15:40:30 darkdevil root[19100] INFO model_double-dqn_GOOG_50: USELESS\n",
      "\n"
     ]
    },
    {
     "name": "stdout",
     "output_type": "stream",
     "text": [
      "8853.79\n"
     ]
    },
    {
     "name": "stderr",
     "output_type": "stream",
     "text": [
      "2020-05-26 15:40:32 darkdevil root[19100] DEBUG Buy at: $8857.53\n",
      "2020-05-26 15:40:32 darkdevil root[19100] INFO model_double-dqn_GOOG_50: USELESS\n",
      "\n"
     ]
    },
    {
     "name": "stdout",
     "output_type": "stream",
     "text": [
      "8855.05\n"
     ]
    },
    {
     "name": "stderr",
     "output_type": "stream",
     "text": [
      "2020-05-26 15:40:35 darkdevil root[19100] DEBUG Buy at: $8855.82\n",
      "2020-05-26 15:40:35 darkdevil root[19100] INFO model_double-dqn_GOOG_50: USELESS\n",
      "\n"
     ]
    },
    {
     "name": "stdout",
     "output_type": "stream",
     "text": [
      "8854.99\n"
     ]
    },
    {
     "name": "stderr",
     "output_type": "stream",
     "text": [
      "2020-05-26 15:40:37 darkdevil root[19100] DEBUG Buy at: $8855.01\n",
      "2020-05-26 15:40:37 darkdevil root[19100] INFO model_double-dqn_GOOG_50: USELESS\n",
      "\n"
     ]
    },
    {
     "name": "stdout",
     "output_type": "stream",
     "text": [
      "8854.59\n"
     ]
    },
    {
     "name": "stderr",
     "output_type": "stream",
     "text": [
      "2020-05-26 15:40:39 darkdevil root[19100] DEBUG Buy at: $8856.55\n",
      "2020-05-26 15:40:39 darkdevil root[19100] INFO model_double-dqn_GOOG_50: USELESS\n",
      "\n"
     ]
    },
    {
     "name": "stdout",
     "output_type": "stream",
     "text": [
      "8853.55\n"
     ]
    },
    {
     "name": "stderr",
     "output_type": "stream",
     "text": [
      "2020-05-26 15:40:42 darkdevil root[19100] DEBUG Buy at: $8855.94\n",
      "2020-05-26 15:40:42 darkdevil root[19100] INFO model_double-dqn_GOOG_50: USELESS\n",
      "\n"
     ]
    },
    {
     "name": "stdout",
     "output_type": "stream",
     "text": [
      "8850.81\n"
     ]
    },
    {
     "name": "stderr",
     "output_type": "stream",
     "text": [
      "2020-05-26 15:40:44 darkdevil root[19100] DEBUG Buy at: $8856.85\n",
      "2020-05-26 15:40:44 darkdevil root[19100] INFO model_double-dqn_GOOG_50: USELESS\n",
      "\n"
     ]
    },
    {
     "name": "stdout",
     "output_type": "stream",
     "text": [
      "8852.98\n"
     ]
    },
    {
     "name": "stderr",
     "output_type": "stream",
     "text": [
      "2020-05-26 15:40:47 darkdevil root[19100] DEBUG Buy at: $8855.00\n",
      "2020-05-26 15:40:47 darkdevil root[19100] INFO model_double-dqn_GOOG_50: USELESS\n",
      "\n"
     ]
    },
    {
     "name": "stdout",
     "output_type": "stream",
     "text": [
      "8852.73\n"
     ]
    },
    {
     "name": "stderr",
     "output_type": "stream",
     "text": [
      "2020-05-26 15:40:49 darkdevil root[19100] DEBUG Buy at: $8855.00\n",
      "2020-05-26 15:40:49 darkdevil root[19100] INFO model_double-dqn_GOOG_50: USELESS\n",
      "\n"
     ]
    },
    {
     "name": "stdout",
     "output_type": "stream",
     "text": [
      "8852.69\n"
     ]
    },
    {
     "name": "stderr",
     "output_type": "stream",
     "text": [
      "2020-05-26 15:40:52 darkdevil root[19100] DEBUG Buy at: $8855.09\n",
      "2020-05-26 15:40:52 darkdevil root[19100] INFO model_double-dqn_GOOG_50: USELESS\n",
      "\n"
     ]
    },
    {
     "name": "stdout",
     "output_type": "stream",
     "text": [
      "8851.78\n"
     ]
    },
    {
     "name": "stderr",
     "output_type": "stream",
     "text": [
      "2020-05-26 15:40:55 darkdevil root[19100] DEBUG Buy at: $8853.79\n",
      "2020-05-26 15:40:55 darkdevil root[19100] INFO model_double-dqn_GOOG_50: USELESS\n",
      "\n"
     ]
    },
    {
     "name": "stdout",
     "output_type": "stream",
     "text": [
      "8852.69\n"
     ]
    },
    {
     "name": "stderr",
     "output_type": "stream",
     "text": [
      "2020-05-26 15:40:57 darkdevil root[19100] DEBUG Buy at: $8855.05\n",
      "2020-05-26 15:40:57 darkdevil root[19100] INFO model_double-dqn_GOOG_50: USELESS\n",
      "\n"
     ]
    },
    {
     "name": "stdout",
     "output_type": "stream",
     "text": [
      "8852.09\n"
     ]
    },
    {
     "name": "stderr",
     "output_type": "stream",
     "text": [
      "2020-05-26 15:40:59 darkdevil root[19100] DEBUG Buy at: $8854.99\n",
      "2020-05-26 15:40:59 darkdevil root[19100] INFO model_double-dqn_GOOG_50: USELESS\n",
      "\n"
     ]
    },
    {
     "name": "stdout",
     "output_type": "stream",
     "text": [
      "8855.79\n"
     ]
    },
    {
     "name": "stderr",
     "output_type": "stream",
     "text": [
      "2020-05-26 15:41:02 darkdevil root[19100] DEBUG Buy at: $8854.59\n",
      "2020-05-26 15:41:02 darkdevil root[19100] INFO model_double-dqn_GOOG_50: USELESS\n",
      "\n"
     ]
    },
    {
     "name": "stdout",
     "output_type": "stream",
     "text": [
      "8856.1\n"
     ]
    },
    {
     "name": "stderr",
     "output_type": "stream",
     "text": [
      "2020-05-26 15:41:04 darkdevil root[19100] DEBUG Buy at: $8853.55\n",
      "2020-05-26 15:41:04 darkdevil root[19100] INFO model_double-dqn_GOOG_50: USELESS\n",
      "\n"
     ]
    },
    {
     "name": "stdout",
     "output_type": "stream",
     "text": [
      "8855.88\n"
     ]
    },
    {
     "name": "stderr",
     "output_type": "stream",
     "text": [
      "2020-05-26 15:41:07 darkdevil root[19100] DEBUG Buy at: $8850.81\n",
      "2020-05-26 15:41:07 darkdevil root[19100] INFO model_double-dqn_GOOG_50: USELESS\n",
      "\n"
     ]
    },
    {
     "name": "stdout",
     "output_type": "stream",
     "text": [
      "8856.72\n"
     ]
    },
    {
     "name": "stderr",
     "output_type": "stream",
     "text": [
      "2020-05-26 15:41:09 darkdevil root[19100] DEBUG Buy at: $8852.98\n",
      "2020-05-26 15:41:09 darkdevil root[19100] INFO model_double-dqn_GOOG_50: USELESS\n",
      "\n"
     ]
    },
    {
     "name": "stdout",
     "output_type": "stream",
     "text": [
      "8854.15\n"
     ]
    },
    {
     "name": "stderr",
     "output_type": "stream",
     "text": [
      "2020-05-26 15:41:11 darkdevil root[19100] DEBUG Buy at: $8852.73\n",
      "2020-05-26 15:41:11 darkdevil root[19100] INFO model_double-dqn_GOOG_50: USELESS\n",
      "\n"
     ]
    },
    {
     "name": "stdout",
     "output_type": "stream",
     "text": [
      "8851.86\n"
     ]
    },
    {
     "name": "stderr",
     "output_type": "stream",
     "text": [
      "2020-05-26 15:41:14 darkdevil root[19100] DEBUG Buy at: $8852.69\n",
      "2020-05-26 15:41:14 darkdevil root[19100] INFO model_double-dqn_GOOG_50: USELESS\n",
      "\n"
     ]
    },
    {
     "name": "stdout",
     "output_type": "stream",
     "text": [
      "8852.01\n"
     ]
    },
    {
     "name": "stderr",
     "output_type": "stream",
     "text": [
      "2020-05-26 15:41:17 darkdevil root[19100] DEBUG Buy at: $8851.78\n",
      "2020-05-26 15:41:17 darkdevil root[19100] INFO model_double-dqn_GOOG_50: USELESS\n",
      "\n"
     ]
    },
    {
     "name": "stdout",
     "output_type": "stream",
     "text": [
      "8850.0\n"
     ]
    },
    {
     "name": "stderr",
     "output_type": "stream",
     "text": [
      "2020-05-26 15:41:19 darkdevil root[19100] DEBUG Buy at: $8852.69\n",
      "2020-05-26 15:41:19 darkdevil root[19100] INFO model_double-dqn_GOOG_50: USELESS\n",
      "\n"
     ]
    },
    {
     "name": "stdout",
     "output_type": "stream",
     "text": [
      "8853.59\n"
     ]
    },
    {
     "name": "stderr",
     "output_type": "stream",
     "text": [
      "2020-05-26 15:41:21 darkdevil root[19100] DEBUG Buy at: $8852.09\n",
      "2020-05-26 15:41:21 darkdevil root[19100] INFO model_double-dqn_GOOG_50: USELESS\n",
      "\n"
     ]
    },
    {
     "name": "stdout",
     "output_type": "stream",
     "text": [
      "8855.65\n"
     ]
    },
    {
     "name": "stderr",
     "output_type": "stream",
     "text": [
      "2020-05-26 15:41:24 darkdevil root[19100] DEBUG Buy at: $8855.79\n",
      "2020-05-26 15:41:24 darkdevil root[19100] INFO model_double-dqn_GOOG_50: USELESS\n",
      "\n"
     ]
    }
   ],
   "source": [
    "coloredlogs.install(level=\"DEBUG\")\n",
    "switch_k_backend_device()\n",
    "args = argparse.Namespace(ticker='BTCUSDT')\n",
    "try:\n",
    "    main(args)\n",
    "except KeyboardInterrupt:\n",
    "    print(\"Aborted\")  "
   ]
  }
 ],
 "metadata": {
  "kernelspec": {
   "display_name": "Python 3",
   "language": "python",
   "name": "python3"
  },
  "language_info": {
   "codemirror_mode": {
    "name": "ipython",
    "version": 3
   },
   "file_extension": ".py",
   "mimetype": "text/x-python",
   "name": "python",
   "nbconvert_exporter": "python",
   "pygments_lexer": "ipython3",
   "version": "3.7.6"
  }
 },
 "nbformat": 4,
 "nbformat_minor": 4
}
