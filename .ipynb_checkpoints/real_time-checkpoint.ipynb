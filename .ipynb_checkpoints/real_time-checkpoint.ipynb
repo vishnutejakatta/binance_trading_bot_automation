{
 "cells": [
  {
   "cell_type": "code",
   "execution_count": 70,
   "metadata": {},
   "outputs": [],
   "source": [
    "import lxml.html as lh\n",
    "import time\n",
    "import urllib.request\n",
    "import argparse\n",
    "import urllib.request, urllib.parse, urllib.error\n",
    "from datetime import datetime\n",
    "import dateparser\n",
    "import argparse\n",
    "import pytz\n",
    "from selenium import webdriver\n",
    "from selenium.common.exceptions import StaleElementReferenceException\n",
    "import os\n",
    "import coloredlogs\n",
    "import json\n",
    "import ssl\n",
    "from docopt import docopt\n",
    "from trading_bot.ops import get_state\n",
    "from trading_bot.agent import Agent\n",
    "from trading_bot.utils import (\n",
    "    get_stock_data,\n",
    "    format_currency,\n",
    "    format_position,\n",
    "    show_eval_result,\n",
    "    switch_k_backend_device\n",
    ")\n",
    "from bot import (\n",
    "    date_to_milliseconds,\n",
    "    interval_to_milliseconds,\n",
    "    get_historical_klines,\n",
    "    get_historic_klines\n",
    ")\n",
    "from binance.client import Client\n",
    "from binance.exceptions import BinanceAPIException\n",
    "import pandas as pd"
   ]
  },
  {
   "cell_type": "code",
   "execution_count": 71,
   "metadata": {},
   "outputs": [
    {
     "name": "stderr",
     "output_type": "stream",
     "text": [
      "2020-05-28 13:34:01 darkdevil urllib3.connectionpool[11651] DEBUG Starting new HTTPS connection (1): api.binance.com:443\n",
      "2020-05-28 13:34:01 darkdevil urllib3.connectionpool[11651] DEBUG https://api.binance.com:443 \"GET /api/v1/ping HTTP/1.1\" 200 None\n",
      "2020-05-28 13:34:02 darkdevil urllib3.connectionpool[11651] DEBUG https://api.binance.com:443 \"GET /wapi/v3/depositAddress.html?asset=USDT&timestamp=1590653041765&signature=4b26db98a62970cc532a019be1bc8348c2e3bf69e54bcc53fd0fa7c567e3a414 HTTP/1.1\" 200 182\n"
     ]
    },
    {
     "data": {
      "text/plain": [
       "{'address': '0x7468874b3df2712761f9a851b662e5ed7376472a',\n",
       " 'success': True,\n",
       " 'addressTag': '',\n",
       " 'asset': 'USDT',\n",
       " 'url': 'https://etherscan.io/address/0x7468874b3df2712761f9a851b662e5ed7376472a'}"
      ]
     },
     "execution_count": 71,
     "metadata": {},
     "output_type": "execute_result"
    }
   ],
   "source": [
    "tz = pytz.timezone('Asia/Kolkata')\n",
    "ctx = ssl.create_default_context()\n",
    "ctx.check_hostname = False\n",
    "ctx.verify_mode = ssl.CERT_NONE\n",
    "api_key = \"JB80jU6aTMYXcLapXKPc2Rmnn12CUcm3l7RlnYAT7w8esCFAKYOTmd4bAMWxB33U\"\n",
    "api_secret = \"FsbKTSb7lCGLpQWoBad9Jobe8xpi177c2KrQ6Q31e86dUA5WgUqaliqHsILk7n5s\"\n",
    "client = Client(api_key, api_secret)\n",
    "client.get_deposit_address(asset='USDT')"
   ]
  },
  {
   "cell_type": "code",
   "execution_count": 72,
   "metadata": {},
   "outputs": [],
   "source": [
    "def train(train_stock, val_stock, window_size, batch_size, ep_count,\n",
    "         strategy=\"t-dqn\", model_name=\"model_double-dqn_GOOG_50\", pretrained=False,\n",
    "         debug=False):\n",
    "    \"\"\" Trains the stock trading bot using Deep Q-Learning.\n",
    "    Please see https://arxiv.org/abs/1312.5602 for more details.\n",
    "    Args: [python train.py --help]\n",
    "    \"\"\"\n",
    "    agent = Agent(window_size, strategy=strategy, pretrained=pretrained, model_name=model_name)\n",
    "    \n",
    "    train_data = get_stock_data(train_stock)\n",
    "    val_data = get_stock_data(val_stock)\n",
    "\n",
    "    initial_offset = val_data[1] - val_data[0]\n",
    "\n",
    "    for episode in range(1, ep_count + 1):\n",
    "        train_result = train_model(agent, episode, train_data, ep_count=ep_count,\n",
    "                                   batch_size=batch_size, window_size=window_size)\n",
    "        val_result, _ = evaluate_model(agent, val_data, window_size, debug)\n",
    "        show_train_result(train_result, val_result, initial_offset)"
   ]
  },
  {
   "cell_type": "code",
   "execution_count": null,
   "metadata": {},
   "outputs": [],
   "source": [
    "def date_to_milliseconds(date_str):\n",
    "    \"\"\"Convert UTC date to milliseconds\n",
    "    If using offset strings add \"UTC\" to date string e.g. \"now UTC\", \"11 hours ago UTC\"\n",
    "    :param date_str: date in readable format, i.e. \"January 01, 2018\", \"11 hours ago UTC\", \"now UTC\"\n",
    "    :type date_str: str\n",
    "    \"\"\"\n",
    "    epoch = datetime.utcfromtimestamp(0).replace(tzinfo=pytz.utc)\n",
    "    d = dateparser.parse(date_str)\n",
    "    if d.tzinfo is None or d.tzinfo.utcoffset(d) is None:\n",
    "        d = d.replace(tzinfo=pytz.utc)\n",
    "    return int((d - epoch).total_seconds() * 1000.0)"
   ]
  },
  {
   "cell_type": "code",
   "execution_count": 73,
   "metadata": {},
   "outputs": [],
   "source": [
    "def make_csv_file(symbol):\n",
    "    ochl = get_historic_klines(symbol, \"5 days ago UTC\", \"now UTC\", Client.KLINE_INTERVAL_5MINUTE)\n",
    "    print(ochl)\n",
    "    df = pd.DataFrame(ochl, columns=[\"date\", \"open\", \"close\", \"high\", \"low\", \"volume\"])                \n",
    "    f_name = str(symbol) + \".csv\"\n",
    "    for i in df.index:\n",
    "        df.at[i,'date'] = datetime.fromtimestamp((int(df.at[i,'date']))/1000.0).date()\n",
    "    symbols_csv_files.append(symbol)\n",
    "    print(symbol)\n",
    "    print(df)\n",
    "    df.to_csv(f_name, columns=[\"Date\", \"Open\", \"Close\", \"High\", \"Low\", \"Volume\"])"
   ]
  },
  {
   "cell_type": "code",
   "execution_count": 61,
   "metadata": {},
   "outputs": [],
   "source": [
    "def Real(client):\n",
    "    live = float(client.get_symbol_ticker(symbol = 'BTCUSDT')['price']);\n",
    "    time.sleep(1)\n",
    "    return live"
   ]
  },
  {
   "cell_type": "code",
   "execution_count": 62,
   "metadata": {},
   "outputs": [],
   "source": [
    "def evaluate_model(agent, data, window_size, debug):\n",
    "    count = 0\n",
    "    while count < window_size:\n",
    "        live = Real(client)\n",
    "        data.append(live)\n",
    "        count += 1\n",
    "    total_profit = 0\n",
    "    history = []\n",
    "    agent.inventory = []\n",
    "    state = get_state(data, 0, window_size + 1)\n",
    "    number_of_buys = 0\n",
    "    t = 0\n",
    "    while True:\n",
    "        live = Real(client)\n",
    "        data.append(live)\n",
    "        reward = 0\n",
    "        next_state = get_state(data, t + 1, window_size + 1)\n",
    "        \n",
    "        action = agent.act(state, is_eval=True)\n",
    "\n",
    "        print(\"Live Price: \",live)\n",
    "        if action == 1 and number_of_buys < 10:\n",
    "            agent.inventory.append(data[t+window_size-1])\n",
    "            history.append((data[t+window_size-1], \"BUY\"))\n",
    "            number_of_buys += 1\n",
    "            if debug:\n",
    "                logging.debug(\"Buy at: {}\".format(format_currency(data[t+window_size-1])))\n",
    "        \n",
    "        elif action == 2 and len(agent.inventory) > 0:\n",
    "            if agent.inventory != []:\n",
    "                m = 0\n",
    "                for i in agent.inventory:\n",
    "                    temp = data[t+window_size-1] - i\n",
    "                    if temp > 0 and temp > m:\n",
    "                        rem = i\n",
    "                        m = temp\n",
    "                if m > 0:\n",
    "                    pft = m\n",
    "                    agent.inventory.remove(rem)\n",
    "                    delta = pft\n",
    "                    reward = delta #max(delta, 0)\n",
    "                    total_profit += delta\n",
    "\n",
    "                    history.append((data[t+window_size-1], \"SELL\"))\n",
    "                    if debug:\n",
    "                        logging.debug(\"Sell at: {} | Position: {}\".format(\n",
    "                            format_currency(data[t+window_size-1]), format_position(delta)))\n",
    "        \n",
    "        else:\n",
    "            history.append((data[t], \"HOLD\"))\n",
    "            if False:\n",
    "                logging.debug(\"Hold at: {}\".format(format_currency(data[t+window_size-1])))\n",
    "        \n",
    "        done = (t == (100 - 1))\n",
    "        agent.memory.append((state, action, reward, next_state, done))\n",
    "\n",
    "        state = next_state\n",
    "        t += 1\n",
    "        print(agent.inventory)\n",
    "        if agent.inventory == [] and number_of_buys >= 10:\n",
    "            return total_profit, history"
   ]
  },
  {
   "cell_type": "code",
   "execution_count": 63,
   "metadata": {},
   "outputs": [],
   "source": [
    "def main(args):\n",
    "    price = []\n",
    "    window_size = 10\n",
    "    time_now = datetime.datetime.now(tz).time()\n",
    "    model_name='Models for BTCUSDT/model_double-dqn_GOOG_50_30'\n",
    "\n",
    "    agent = Agent(window_size, pretrained=True, model_name=model_name)\n",
    "    profit, history = evaluate_model(agent, price, window_size, debug=True)\n",
    "    print(\"Profit:\", profit)\n",
    "    buys = sells = holds = 0\n",
    "    for i in history:\n",
    "        if i[1] == \"BUY\":\n",
    "            buys += 1\n",
    "        elif i[1] == \"SELL\":\n",
    "            sells += 1\n",
    "        elif i[1] == \"HOLD\":\n",
    "            holds += 1\n",
    "    print(\"BUYS Percentage:\", (buys/len(history)) * 100)\n",
    "    print(\"SELLS Percentage:\", (sells/len(history)) * 100)\n",
    "    print(\"HOLDS Percentage:\", (holds/len(history)) * 100)"
   ]
  },
  {
   "cell_type": "code",
   "execution_count": 74,
   "metadata": {
    "scrolled": false
   },
   "outputs": [
    {
     "name": "stderr",
     "output_type": "stream",
     "text": [
      "2020-05-28 13:34:37 darkdevil root[11651] DEBUG switching to TensorFlow for CPU\n",
      "2020-05-28 13:34:37 darkdevil urllib3.connectionpool[11651] DEBUG https://api.binance.com:443 \"GET /api/v1/klines?endTime=1590653077401&interval=5m&limit=50&startTime=1590221077397&symbol=BTCUSDT HTTP/1.1\" 200 None\n",
      "2020-05-28 13:34:38 darkdevil urllib3.connectionpool[11651] DEBUG https://api.binance.com:443 \"GET /api/v1/klines?endTime=1590653077401&interval=5m&limit=50&startTime=1590236100000&symbol=BTCUSDT HTTP/1.1\" 200 None\n",
      "2020-05-28 13:34:39 darkdevil urllib3.connectionpool[11651] DEBUG https://api.binance.com:443 \"GET /api/v1/klines?endTime=1590653077401&interval=5m&limit=50&startTime=1590251100000&symbol=BTCUSDT HTTP/1.1\" 200 None\n",
      "2020-05-28 13:34:40 darkdevil urllib3.connectionpool[11651] DEBUG https://api.binance.com:443 \"GET /api/v1/klines?endTime=1590653077401&interval=5m&limit=50&startTime=1590266100000&symbol=BTCUSDT HTTP/1.1\" 200 None\n",
      "2020-05-28 13:34:40 darkdevil urllib3.connectionpool[11651] DEBUG https://api.binance.com:443 \"GET /api/v1/klines?endTime=1590653077401&interval=5m&limit=50&startTime=1590281100000&symbol=BTCUSDT HTTP/1.1\" 200 None\n",
      "2020-05-28 13:34:41 darkdevil urllib3.connectionpool[11651] DEBUG https://api.binance.com:443 \"GET /api/v1/klines?endTime=1590653077401&interval=5m&limit=50&startTime=1590296100000&symbol=BTCUSDT HTTP/1.1\" 200 None\n",
      "2020-05-28 13:34:43 darkdevil urllib3.connectionpool[11651] DEBUG https://api.binance.com:443 \"GET /api/v1/klines?endTime=1590653077401&interval=5m&limit=50&startTime=1590311100000&symbol=BTCUSDT HTTP/1.1\" 200 None\n",
      "2020-05-28 13:34:43 darkdevil urllib3.connectionpool[11651] DEBUG https://api.binance.com:443 \"GET /api/v1/klines?endTime=1590653077401&interval=5m&limit=50&startTime=1590326100000&symbol=BTCUSDT HTTP/1.1\" 200 None\n",
      "2020-05-28 13:34:44 darkdevil urllib3.connectionpool[11651] DEBUG https://api.binance.com:443 \"GET /api/v1/klines?endTime=1590653077401&interval=5m&limit=50&startTime=1590341100000&symbol=BTCUSDT HTTP/1.1\" 200 None\n",
      "2020-05-28 13:34:45 darkdevil urllib3.connectionpool[11651] DEBUG https://api.binance.com:443 \"GET /api/v1/klines?endTime=1590653077401&interval=5m&limit=50&startTime=1590356100000&symbol=BTCUSDT HTTP/1.1\" 200 None\n",
      "2020-05-28 13:34:46 darkdevil urllib3.connectionpool[11651] DEBUG https://api.binance.com:443 \"GET /api/v1/klines?endTime=1590653077401&interval=5m&limit=50&startTime=1590371100000&symbol=BTCUSDT HTTP/1.1\" 200 None\n",
      "2020-05-28 13:34:47 darkdevil urllib3.connectionpool[11651] DEBUG https://api.binance.com:443 \"GET /api/v1/klines?endTime=1590653077401&interval=5m&limit=50&startTime=1590386100000&symbol=BTCUSDT HTTP/1.1\" 200 None\n",
      "2020-05-28 13:34:48 darkdevil urllib3.connectionpool[11651] DEBUG https://api.binance.com:443 \"GET /api/v1/klines?endTime=1590653077401&interval=5m&limit=50&startTime=1590401100000&symbol=BTCUSDT HTTP/1.1\" 200 None\n",
      "2020-05-28 13:34:48 darkdevil urllib3.connectionpool[11651] DEBUG https://api.binance.com:443 \"GET /api/v1/klines?endTime=1590653077401&interval=5m&limit=50&startTime=1590416100000&symbol=BTCUSDT HTTP/1.1\" 200 None\n",
      "2020-05-28 13:34:49 darkdevil urllib3.connectionpool[11651] DEBUG https://api.binance.com:443 \"GET /api/v1/klines?endTime=1590653077401&interval=5m&limit=50&startTime=1590431100000&symbol=BTCUSDT HTTP/1.1\" 200 None\n",
      "2020-05-28 13:34:51 darkdevil urllib3.connectionpool[11651] DEBUG https://api.binance.com:443 \"GET /api/v1/klines?endTime=1590653077401&interval=5m&limit=50&startTime=1590446100000&symbol=BTCUSDT HTTP/1.1\" 200 None\n",
      "2020-05-28 13:34:52 darkdevil urllib3.connectionpool[11651] DEBUG https://api.binance.com:443 \"GET /api/v1/klines?endTime=1590653077401&interval=5m&limit=50&startTime=1590461100000&symbol=BTCUSDT HTTP/1.1\" 200 None\n",
      "2020-05-28 13:34:52 darkdevil urllib3.connectionpool[11651] DEBUG https://api.binance.com:443 \"GET /api/v1/klines?endTime=1590653077401&interval=5m&limit=50&startTime=1590476100000&symbol=BTCUSDT HTTP/1.1\" 200 None\n",
      "2020-05-28 13:34:54 darkdevil urllib3.connectionpool[11651] DEBUG https://api.binance.com:443 \"GET /api/v1/klines?endTime=1590653077401&interval=5m&limit=50&startTime=1590491100000&symbol=BTCUSDT HTTP/1.1\" 200 None\n",
      "2020-05-28 13:34:54 darkdevil urllib3.connectionpool[11651] DEBUG https://api.binance.com:443 \"GET /api/v1/klines?endTime=1590653077401&interval=5m&limit=50&startTime=1590506100000&symbol=BTCUSDT HTTP/1.1\" 200 None\n",
      "2020-05-28 13:34:55 darkdevil urllib3.connectionpool[11651] DEBUG https://api.binance.com:443 \"GET /api/v1/klines?endTime=1590653077401&interval=5m&limit=50&startTime=1590521100000&symbol=BTCUSDT HTTP/1.1\" 200 None\n",
      "2020-05-28 13:34:56 darkdevil urllib3.connectionpool[11651] DEBUG https://api.binance.com:443 \"GET /api/v1/klines?endTime=1590653077401&interval=5m&limit=50&startTime=1590536100000&symbol=BTCUSDT HTTP/1.1\" 200 None\n",
      "2020-05-28 13:34:57 darkdevil urllib3.connectionpool[11651] DEBUG https://api.binance.com:443 \"GET /api/v1/klines?endTime=1590653077401&interval=5m&limit=50&startTime=1590551100000&symbol=BTCUSDT HTTP/1.1\" 200 None\n",
      "2020-05-28 13:34:57 darkdevil urllib3.connectionpool[11651] DEBUG https://api.binance.com:443 \"GET /api/v1/klines?endTime=1590653077401&interval=5m&limit=50&startTime=1590566100000&symbol=BTCUSDT HTTP/1.1\" 200 None\n",
      "2020-05-28 13:34:58 darkdevil urllib3.connectionpool[11651] DEBUG https://api.binance.com:443 \"GET /api/v1/klines?endTime=1590653077401&interval=5m&limit=50&startTime=1590581100000&symbol=BTCUSDT HTTP/1.1\" 200 None\n",
      "2020-05-28 13:34:59 darkdevil urllib3.connectionpool[11651] DEBUG https://api.binance.com:443 \"GET /api/v1/klines?endTime=1590653077401&interval=5m&limit=50&startTime=1590596100000&symbol=BTCUSDT HTTP/1.1\" 200 None\n",
      "2020-05-28 13:34:59 darkdevil urllib3.connectionpool[11651] DEBUG https://api.binance.com:443 \"GET /api/v1/klines?endTime=1590653077401&interval=5m&limit=50&startTime=1590611100000&symbol=BTCUSDT HTTP/1.1\" 200 None\n",
      "2020-05-28 13:35:01 darkdevil urllib3.connectionpool[11651] DEBUG https://api.binance.com:443 \"GET /api/v1/klines?endTime=1590653077401&interval=5m&limit=50&startTime=1590626100000&symbol=BTCUSDT HTTP/1.1\" 200 None\n",
      "2020-05-28 13:35:01 darkdevil urllib3.connectionpool[11651] DEBUG https://api.binance.com:443 \"GET /api/v1/klines?endTime=1590653077401&interval=5m&limit=50&startTime=1590641100000&symbol=BTCUSDT HTTP/1.1\" 200 None\n"
     ]
    },
    {
     "name": "stdout",
     "output_type": "stream",
     "text": [
      "(9150.06, 9135.71, 9150.5, 9156.11)\n"
     ]
    },
    {
     "ename": "ValueError",
     "evalue": "Shape of passed values is (4, 1), indices imply (4, 6)",
     "output_type": "error",
     "traceback": [
      "\u001b[0;31m---------------------------------------------------------------------------\u001b[0m",
      "\u001b[0;31mValueError\u001b[0m                                Traceback (most recent call last)",
      "\u001b[0;32m~/anaconda3/lib/python3.7/site-packages/pandas/core/internals/managers.py\u001b[0m in \u001b[0;36mcreate_block_manager_from_blocks\u001b[0;34m(blocks, axes)\u001b[0m\n\u001b[1;32m   1653\u001b[0m                 blocks = [\n\u001b[0;32m-> 1654\u001b[0;31m                     \u001b[0mmake_block\u001b[0m\u001b[0;34m(\u001b[0m\u001b[0mvalues\u001b[0m\u001b[0;34m=\u001b[0m\u001b[0mblocks\u001b[0m\u001b[0;34m[\u001b[0m\u001b[0;36m0\u001b[0m\u001b[0;34m]\u001b[0m\u001b[0;34m,\u001b[0m \u001b[0mplacement\u001b[0m\u001b[0;34m=\u001b[0m\u001b[0mslice\u001b[0m\u001b[0;34m(\u001b[0m\u001b[0;36m0\u001b[0m\u001b[0;34m,\u001b[0m \u001b[0mlen\u001b[0m\u001b[0;34m(\u001b[0m\u001b[0maxes\u001b[0m\u001b[0;34m[\u001b[0m\u001b[0;36m0\u001b[0m\u001b[0;34m]\u001b[0m\u001b[0;34m)\u001b[0m\u001b[0;34m)\u001b[0m\u001b[0;34m)\u001b[0m\u001b[0;34m\u001b[0m\u001b[0;34m\u001b[0m\u001b[0m\n\u001b[0m\u001b[1;32m   1655\u001b[0m                 ]\n",
      "\u001b[0;32m~/anaconda3/lib/python3.7/site-packages/pandas/core/internals/blocks.py\u001b[0m in \u001b[0;36mmake_block\u001b[0;34m(values, placement, klass, ndim, dtype)\u001b[0m\n\u001b[1;32m   3040\u001b[0m \u001b[0;34m\u001b[0m\u001b[0m\n\u001b[0;32m-> 3041\u001b[0;31m     \u001b[0;32mreturn\u001b[0m \u001b[0mklass\u001b[0m\u001b[0;34m(\u001b[0m\u001b[0mvalues\u001b[0m\u001b[0;34m,\u001b[0m \u001b[0mndim\u001b[0m\u001b[0;34m=\u001b[0m\u001b[0mndim\u001b[0m\u001b[0;34m,\u001b[0m \u001b[0mplacement\u001b[0m\u001b[0;34m=\u001b[0m\u001b[0mplacement\u001b[0m\u001b[0;34m)\u001b[0m\u001b[0;34m\u001b[0m\u001b[0;34m\u001b[0m\u001b[0m\n\u001b[0m\u001b[1;32m   3042\u001b[0m \u001b[0;34m\u001b[0m\u001b[0m\n",
      "\u001b[0;32m~/anaconda3/lib/python3.7/site-packages/pandas/core/internals/blocks.py\u001b[0m in \u001b[0;36m__init__\u001b[0;34m(self, values, placement, ndim)\u001b[0m\n\u001b[1;32m    124\u001b[0m             raise ValueError(\n\u001b[0;32m--> 125\u001b[0;31m                 \u001b[0;34mf\"Wrong number of items passed {len(self.values)}, \"\u001b[0m\u001b[0;34m\u001b[0m\u001b[0;34m\u001b[0m\u001b[0m\n\u001b[0m\u001b[1;32m    126\u001b[0m                 \u001b[0;34mf\"placement implies {len(self.mgr_locs)}\"\u001b[0m\u001b[0;34m\u001b[0m\u001b[0;34m\u001b[0m\u001b[0m\n",
      "\u001b[0;31mValueError\u001b[0m: Wrong number of items passed 1, placement implies 6",
      "\nDuring handling of the above exception, another exception occurred:\n",
      "\u001b[0;31mValueError\u001b[0m                                Traceback (most recent call last)",
      "\u001b[0;32m<ipython-input-74-fd1206eb7fc0>\u001b[0m in \u001b[0;36m<module>\u001b[0;34m\u001b[0m\n\u001b[1;32m     10\u001b[0m \u001b[0msymbol\u001b[0m \u001b[0;34m=\u001b[0m \u001b[0;34m\"BTCUSDT\"\u001b[0m\u001b[0;34m\u001b[0m\u001b[0;34m\u001b[0m\u001b[0m\n\u001b[1;32m     11\u001b[0m \u001b[0;32mtry\u001b[0m\u001b[0;34m:\u001b[0m\u001b[0;34m\u001b[0m\u001b[0;34m\u001b[0m\u001b[0m\n\u001b[0;32m---> 12\u001b[0;31m     \u001b[0mmake_csv_file\u001b[0m\u001b[0;34m(\u001b[0m\u001b[0msymbol\u001b[0m\u001b[0;34m)\u001b[0m\u001b[0;34m\u001b[0m\u001b[0;34m\u001b[0m\u001b[0m\n\u001b[0m\u001b[1;32m     13\u001b[0m     \u001b[0;31m#train()\u001b[0m\u001b[0;34m\u001b[0m\u001b[0;34m\u001b[0m\u001b[0;34m\u001b[0m\u001b[0m\n\u001b[1;32m     14\u001b[0m     \u001b[0;31m#main(args)\u001b[0m\u001b[0;34m\u001b[0m\u001b[0;34m\u001b[0m\u001b[0;34m\u001b[0m\u001b[0m\n",
      "\u001b[0;32m<ipython-input-73-a43318257219>\u001b[0m in \u001b[0;36mmake_csv_file\u001b[0;34m(symbol)\u001b[0m\n\u001b[1;32m      2\u001b[0m     \u001b[0mochl\u001b[0m \u001b[0;34m=\u001b[0m \u001b[0mget_historic_klines\u001b[0m\u001b[0;34m(\u001b[0m\u001b[0msymbol\u001b[0m\u001b[0;34m,\u001b[0m \u001b[0;34m\"5 days ago UTC\"\u001b[0m\u001b[0;34m,\u001b[0m \u001b[0;34m\"now UTC\"\u001b[0m\u001b[0;34m,\u001b[0m \u001b[0mClient\u001b[0m\u001b[0;34m.\u001b[0m\u001b[0mKLINE_INTERVAL_5MINUTE\u001b[0m\u001b[0;34m)\u001b[0m\u001b[0;34m\u001b[0m\u001b[0;34m\u001b[0m\u001b[0m\n\u001b[1;32m      3\u001b[0m     \u001b[0mprint\u001b[0m\u001b[0;34m(\u001b[0m\u001b[0mochl\u001b[0m\u001b[0;34m)\u001b[0m\u001b[0;34m\u001b[0m\u001b[0;34m\u001b[0m\u001b[0m\n\u001b[0;32m----> 4\u001b[0;31m     \u001b[0mdf\u001b[0m \u001b[0;34m=\u001b[0m \u001b[0mpd\u001b[0m\u001b[0;34m.\u001b[0m\u001b[0mDataFrame\u001b[0m\u001b[0;34m(\u001b[0m\u001b[0mochl\u001b[0m\u001b[0;34m,\u001b[0m \u001b[0mcolumns\u001b[0m\u001b[0;34m=\u001b[0m\u001b[0;34m[\u001b[0m\u001b[0;34m\"date\"\u001b[0m\u001b[0;34m,\u001b[0m \u001b[0;34m\"open\"\u001b[0m\u001b[0;34m,\u001b[0m \u001b[0;34m\"close\"\u001b[0m\u001b[0;34m,\u001b[0m \u001b[0;34m\"high\"\u001b[0m\u001b[0;34m,\u001b[0m \u001b[0;34m\"low\"\u001b[0m\u001b[0;34m,\u001b[0m \u001b[0;34m\"volume\"\u001b[0m\u001b[0;34m]\u001b[0m\u001b[0;34m)\u001b[0m\u001b[0;34m\u001b[0m\u001b[0;34m\u001b[0m\u001b[0m\n\u001b[0m\u001b[1;32m      5\u001b[0m     \u001b[0mf_name\u001b[0m \u001b[0;34m=\u001b[0m \u001b[0mstr\u001b[0m\u001b[0;34m(\u001b[0m\u001b[0msymbol\u001b[0m\u001b[0;34m)\u001b[0m \u001b[0;34m+\u001b[0m \u001b[0;34m\".csv\"\u001b[0m\u001b[0;34m\u001b[0m\u001b[0;34m\u001b[0m\u001b[0m\n\u001b[1;32m      6\u001b[0m     \u001b[0;32mfor\u001b[0m \u001b[0mi\u001b[0m \u001b[0;32min\u001b[0m \u001b[0mdf\u001b[0m\u001b[0;34m.\u001b[0m\u001b[0mindex\u001b[0m\u001b[0;34m:\u001b[0m\u001b[0;34m\u001b[0m\u001b[0;34m\u001b[0m\u001b[0m\n",
      "\u001b[0;32m~/anaconda3/lib/python3.7/site-packages/pandas/core/frame.py\u001b[0m in \u001b[0;36m__init__\u001b[0;34m(self, data, index, columns, dtype, copy)\u001b[0m\n\u001b[1;32m    486\u001b[0m                     \u001b[0mmgr\u001b[0m \u001b[0;34m=\u001b[0m \u001b[0marrays_to_mgr\u001b[0m\u001b[0;34m(\u001b[0m\u001b[0marrays\u001b[0m\u001b[0;34m,\u001b[0m \u001b[0mcolumns\u001b[0m\u001b[0;34m,\u001b[0m \u001b[0mindex\u001b[0m\u001b[0;34m,\u001b[0m \u001b[0mcolumns\u001b[0m\u001b[0;34m,\u001b[0m \u001b[0mdtype\u001b[0m\u001b[0;34m=\u001b[0m\u001b[0mdtype\u001b[0m\u001b[0;34m)\u001b[0m\u001b[0;34m\u001b[0m\u001b[0;34m\u001b[0m\u001b[0m\n\u001b[1;32m    487\u001b[0m                 \u001b[0;32melse\u001b[0m\u001b[0;34m:\u001b[0m\u001b[0;34m\u001b[0m\u001b[0;34m\u001b[0m\u001b[0m\n\u001b[0;32m--> 488\u001b[0;31m                     \u001b[0mmgr\u001b[0m \u001b[0;34m=\u001b[0m \u001b[0minit_ndarray\u001b[0m\u001b[0;34m(\u001b[0m\u001b[0mdata\u001b[0m\u001b[0;34m,\u001b[0m \u001b[0mindex\u001b[0m\u001b[0;34m,\u001b[0m \u001b[0mcolumns\u001b[0m\u001b[0;34m,\u001b[0m \u001b[0mdtype\u001b[0m\u001b[0;34m=\u001b[0m\u001b[0mdtype\u001b[0m\u001b[0;34m,\u001b[0m \u001b[0mcopy\u001b[0m\u001b[0;34m=\u001b[0m\u001b[0mcopy\u001b[0m\u001b[0;34m)\u001b[0m\u001b[0;34m\u001b[0m\u001b[0;34m\u001b[0m\u001b[0m\n\u001b[0m\u001b[1;32m    489\u001b[0m             \u001b[0;32melse\u001b[0m\u001b[0;34m:\u001b[0m\u001b[0;34m\u001b[0m\u001b[0;34m\u001b[0m\u001b[0m\n\u001b[1;32m    490\u001b[0m                 \u001b[0mmgr\u001b[0m \u001b[0;34m=\u001b[0m \u001b[0minit_dict\u001b[0m\u001b[0;34m(\u001b[0m\u001b[0;34m{\u001b[0m\u001b[0;34m}\u001b[0m\u001b[0;34m,\u001b[0m \u001b[0mindex\u001b[0m\u001b[0;34m,\u001b[0m \u001b[0mcolumns\u001b[0m\u001b[0;34m,\u001b[0m \u001b[0mdtype\u001b[0m\u001b[0;34m=\u001b[0m\u001b[0mdtype\u001b[0m\u001b[0;34m)\u001b[0m\u001b[0;34m\u001b[0m\u001b[0;34m\u001b[0m\u001b[0m\n",
      "\u001b[0;32m~/anaconda3/lib/python3.7/site-packages/pandas/core/internals/construction.py\u001b[0m in \u001b[0;36minit_ndarray\u001b[0;34m(values, index, columns, dtype, copy)\u001b[0m\n\u001b[1;32m    208\u001b[0m         \u001b[0mblock_values\u001b[0m \u001b[0;34m=\u001b[0m \u001b[0;34m[\u001b[0m\u001b[0mvalues\u001b[0m\u001b[0;34m]\u001b[0m\u001b[0;34m\u001b[0m\u001b[0;34m\u001b[0m\u001b[0m\n\u001b[1;32m    209\u001b[0m \u001b[0;34m\u001b[0m\u001b[0m\n\u001b[0;32m--> 210\u001b[0;31m     \u001b[0;32mreturn\u001b[0m \u001b[0mcreate_block_manager_from_blocks\u001b[0m\u001b[0;34m(\u001b[0m\u001b[0mblock_values\u001b[0m\u001b[0;34m,\u001b[0m \u001b[0;34m[\u001b[0m\u001b[0mcolumns\u001b[0m\u001b[0;34m,\u001b[0m \u001b[0mindex\u001b[0m\u001b[0;34m]\u001b[0m\u001b[0;34m)\u001b[0m\u001b[0;34m\u001b[0m\u001b[0;34m\u001b[0m\u001b[0m\n\u001b[0m\u001b[1;32m    211\u001b[0m \u001b[0;34m\u001b[0m\u001b[0m\n\u001b[1;32m    212\u001b[0m \u001b[0;34m\u001b[0m\u001b[0m\n",
      "\u001b[0;32m~/anaconda3/lib/python3.7/site-packages/pandas/core/internals/managers.py\u001b[0m in \u001b[0;36mcreate_block_manager_from_blocks\u001b[0;34m(blocks, axes)\u001b[0m\n\u001b[1;32m   1662\u001b[0m         \u001b[0mblocks\u001b[0m \u001b[0;34m=\u001b[0m \u001b[0;34m[\u001b[0m\u001b[0mgetattr\u001b[0m\u001b[0;34m(\u001b[0m\u001b[0mb\u001b[0m\u001b[0;34m,\u001b[0m \u001b[0;34m\"values\"\u001b[0m\u001b[0;34m,\u001b[0m \u001b[0mb\u001b[0m\u001b[0;34m)\u001b[0m \u001b[0;32mfor\u001b[0m \u001b[0mb\u001b[0m \u001b[0;32min\u001b[0m \u001b[0mblocks\u001b[0m\u001b[0;34m]\u001b[0m\u001b[0;34m\u001b[0m\u001b[0;34m\u001b[0m\u001b[0m\n\u001b[1;32m   1663\u001b[0m         \u001b[0mtot_items\u001b[0m \u001b[0;34m=\u001b[0m \u001b[0msum\u001b[0m\u001b[0;34m(\u001b[0m\u001b[0mb\u001b[0m\u001b[0;34m.\u001b[0m\u001b[0mshape\u001b[0m\u001b[0;34m[\u001b[0m\u001b[0;36m0\u001b[0m\u001b[0;34m]\u001b[0m \u001b[0;32mfor\u001b[0m \u001b[0mb\u001b[0m \u001b[0;32min\u001b[0m \u001b[0mblocks\u001b[0m\u001b[0;34m)\u001b[0m\u001b[0;34m\u001b[0m\u001b[0;34m\u001b[0m\u001b[0m\n\u001b[0;32m-> 1664\u001b[0;31m         \u001b[0mconstruction_error\u001b[0m\u001b[0;34m(\u001b[0m\u001b[0mtot_items\u001b[0m\u001b[0;34m,\u001b[0m \u001b[0mblocks\u001b[0m\u001b[0;34m[\u001b[0m\u001b[0;36m0\u001b[0m\u001b[0;34m]\u001b[0m\u001b[0;34m.\u001b[0m\u001b[0mshape\u001b[0m\u001b[0;34m[\u001b[0m\u001b[0;36m1\u001b[0m\u001b[0;34m:\u001b[0m\u001b[0;34m]\u001b[0m\u001b[0;34m,\u001b[0m \u001b[0maxes\u001b[0m\u001b[0;34m,\u001b[0m \u001b[0me\u001b[0m\u001b[0;34m)\u001b[0m\u001b[0;34m\u001b[0m\u001b[0;34m\u001b[0m\u001b[0m\n\u001b[0m\u001b[1;32m   1665\u001b[0m \u001b[0;34m\u001b[0m\u001b[0m\n\u001b[1;32m   1666\u001b[0m \u001b[0;34m\u001b[0m\u001b[0m\n",
      "\u001b[0;32m~/anaconda3/lib/python3.7/site-packages/pandas/core/internals/managers.py\u001b[0m in \u001b[0;36mconstruction_error\u001b[0;34m(tot_items, block_shape, axes, e)\u001b[0m\n\u001b[1;32m   1692\u001b[0m     \u001b[0;32mif\u001b[0m \u001b[0mblock_shape\u001b[0m\u001b[0;34m[\u001b[0m\u001b[0;36m0\u001b[0m\u001b[0;34m]\u001b[0m \u001b[0;34m==\u001b[0m \u001b[0;36m0\u001b[0m\u001b[0;34m:\u001b[0m\u001b[0;34m\u001b[0m\u001b[0;34m\u001b[0m\u001b[0m\n\u001b[1;32m   1693\u001b[0m         \u001b[0;32mraise\u001b[0m \u001b[0mValueError\u001b[0m\u001b[0;34m(\u001b[0m\u001b[0;34m\"Empty data passed with indices specified.\"\u001b[0m\u001b[0;34m)\u001b[0m\u001b[0;34m\u001b[0m\u001b[0;34m\u001b[0m\u001b[0m\n\u001b[0;32m-> 1694\u001b[0;31m     \u001b[0;32mraise\u001b[0m \u001b[0mValueError\u001b[0m\u001b[0;34m(\u001b[0m\u001b[0;34mf\"Shape of passed values is {passed}, indices imply {implied}\"\u001b[0m\u001b[0;34m)\u001b[0m\u001b[0;34m\u001b[0m\u001b[0;34m\u001b[0m\u001b[0m\n\u001b[0m\u001b[1;32m   1695\u001b[0m \u001b[0;34m\u001b[0m\u001b[0m\n\u001b[1;32m   1696\u001b[0m \u001b[0;34m\u001b[0m\u001b[0m\n",
      "\u001b[0;31mValueError\u001b[0m: Shape of passed values is (4, 1), indices imply (4, 6)"
     ]
    }
   ],
   "source": [
    "coloredlogs.install(level=\"DEBUG\")\n",
    "switch_k_backend_device()\n",
    "args = argparse.Namespace(ticker='BTCUSDT')\n",
    "\n",
    "batch_size = 32\n",
    "ep_count = 10\n",
    "model_name = \"model_double-dqn_GOOG_50\"\n",
    "pretrained = False\n",
    "debug = False\n",
    "symbol = \"BTCUSDT\"\n",
    "try:\n",
    "    make_csv_file(symbol)\n",
    "    #train()\n",
    "    #main(args)\n",
    "except KeyboardInterrupt:\n",
    "    print(\"Aborted\")  "
   ]
  },
  {
   "cell_type": "code",
   "execution_count": null,
   "metadata": {},
   "outputs": [],
   "source": []
  }
 ],
 "metadata": {
  "kernelspec": {
   "display_name": "Python 3",
   "language": "python",
   "name": "python3"
  },
  "language_info": {
   "codemirror_mode": {
    "name": "ipython",
    "version": 3
   },
   "file_extension": ".py",
   "mimetype": "text/x-python",
   "name": "python",
   "nbconvert_exporter": "python",
   "pygments_lexer": "ipython3",
   "version": "3.7.6"
  }
 },
 "nbformat": 4,
 "nbformat_minor": 4
}
