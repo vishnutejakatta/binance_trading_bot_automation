{
 "cells": [
  {
   "cell_type": "code",
   "execution_count": 105,
   "metadata": {},
   "outputs": [],
   "source": [
    "import pandas as pd\n",
    "import time\n",
    "import dateparser\n",
    "import pytz\n",
    "import argparse\n",
    "from datetime import datetime\n",
    "from binance.client import Client\n",
    "import os\n",
    "from binance.exceptions import BinanceAPIException"
   ]
  },
  {
   "cell_type": "code",
   "execution_count": 106,
   "metadata": {},
   "outputs": [],
   "source": [
    "api_key = \"iZHsmlsCReb9S6zVO05Vxy8ONQYK8J3CfshgNiRh3HlRShPULMj8EYBClftHBqi1\"\n",
    "api_secret = \"4IHk54oeSmmoXGQqWNgi24SJ1uHaTSEBfN48nOhYex8ATFFOj2WoWZQfDFD0pzu1\""
   ]
  },
  {
   "cell_type": "code",
   "execution_count": 107,
   "metadata": {},
   "outputs": [
    {
     "name": "stderr",
     "output_type": "stream",
     "text": [
      "2020-05-25 22:54:21 darkdevil urllib3.connectionpool[3432] DEBUG Starting new HTTPS connection (1): api.binance.com:443\n",
      "2020-05-25 22:54:21 darkdevil urllib3.connectionpool[3432] DEBUG https://api.binance.com:443 \"GET /api/v1/ping HTTP/1.1\" 200 None\n"
     ]
    }
   ],
   "source": [
    "client = Client(api_key, api_secret)\n",
    "tz = pytz.timezone('UTC')\n",
    "buy = {}\n",
    "loss = []\n",
    "quantity = {}"
   ]
  },
  {
   "cell_type": "code",
   "execution_count": 108,
   "metadata": {},
   "outputs": [],
   "source": [
    "def date_to_milliseconds(date_str):\n",
    "    # date_str format: \"January 01, 2018\", \"11 hours ago UTC\", \"now UTC\"\n",
    "    epoch = datetime.utcfromtimestamp(0).replace(tzinfo=pytz.utc)\n",
    "    d = dateparser.parse(date_str)\n",
    "    if d.tzinfo is None or d.tzinfo.utcoffset(d) is None:\n",
    "        d = d.replace(tzinfo=pytz.utc)\n",
    "    return int((d - epoch).total_seconds() * 1000.0)"
   ]
  },
  {
   "cell_type": "code",
   "execution_count": 109,
   "metadata": {},
   "outputs": [],
   "source": [
    "def interval_to_milliseconds(interval):\n",
    "    # interval format: 1m, 3m, 5m, 15m, 30m, 1h, 2h, 4h, 6h, 8h, 1d, 3d, 1w\n",
    "    ms = None\n",
    "    seconds_per_unit = {\n",
    "        \"m\": 60,\n",
    "        \"h\": 60 * 60,\n",
    "        \"d\": 24 * 60 * 60,\n",
    "        \"w\": 7 * 24 * 60 * 60\n",
    "    }\n",
    "    unit = interval[-1]\n",
    "    if unit in seconds_per_unit:\n",
    "        try:\n",
    "            ms = int(interval[:-1]) * seconds_per_unit[unit] * 1000\n",
    "        except ValueError:\n",
    "            pass\n",
    "    return ms"
   ]
  },
  {
   "cell_type": "code",
   "execution_count": 110,
   "metadata": {},
   "outputs": [],
   "source": [
    "def get_historical_klines(symbol, interval, start_str, end_str=None):\n",
    "    \"\"\"Get Historical Klines from Binance\n",
    "    If using offset strings for dates add \"UTC\" to date string e.g. \"now UTC\", \"11 hours ago UTC\", \"1 Dec, 2017\"\n",
    "    :param symbol: Name of symbol pair e.g BNBBTC\n",
    "    :param interval: Biannce Kline interval\n",
    "    :param start_str: Start date string in UTC format\n",
    "    :param end_str: optional - end date string in UTC format\n",
    "    :return: list of Open High Low Close Volume values\n",
    "    \"\"\"\n",
    "    output_data = []\n",
    "    limit = 50\n",
    "    timeframe = interval_to_milliseconds(interval)\n",
    "    start_ts = date_to_milliseconds(start_str)\n",
    "    end_ts = None\n",
    "    if end_str:\n",
    "        end_ts = date_to_milliseconds(end_str)\n",
    "\n",
    "    idx = 0\n",
    "    # it can be difficult to know when a symbol was listed on Binance so allow start time to be before list date\n",
    "    symbol_existed = False\n",
    "    while True:\n",
    "        temp_data = client.get_klines(\n",
    "            symbol=symbol,\n",
    "            interval=interval,\n",
    "            limit=limit,\n",
    "            startTime=start_ts,\n",
    "            endTime=end_ts\n",
    "        )\n",
    "        # handle the case where our start date is before the symbol pair listed on Binance\n",
    "        if not symbol_existed and len(temp_data):\n",
    "            symbol_existed = True\n",
    "        if symbol_existed:\n",
    "            output_data += temp_data\n",
    "            start_ts = temp_data[len(temp_data) - 1][0] + timeframe\n",
    "        else:\n",
    "            start_ts += timeframe\n",
    "        idx += 1\n",
    "        if len(temp_data) < limit:\n",
    "            break\n",
    "        # sleep after every 3rd call to be kind to the API\n",
    "        if idx % 3 == 0:\n",
    "            time.sleep(1)\n",
    "\n",
    "    return output_data\n"
   ]
  },
  {
   "cell_type": "code",
   "execution_count": 111,
   "metadata": {},
   "outputs": [],
   "source": [
    "def get_historic_klines(symbol, start, end, interval):\n",
    "    klines = get_historical_klines(symbol, interval, start, end)\n",
    "    #print(\"Klines\")\n",
    "    #print(klines[-1])\n",
    "    ochl = []\n",
    "    for kline in klines:\n",
    "        time1 = int(kline[0])\n",
    "        open1 = float(kline[1])\n",
    "        high = float(kline[2])\n",
    "        low = float(kline[3])\n",
    "        close = float(kline[4])\n",
    "        volume = float(kline[5])\n",
    "        ochl.append([time1, open1, close, high, low, volume])\n",
    "    #df = pd.DataFrame(ochl)\n",
    "    #print(symbol)\n",
    "    #print(df)\n",
    "    #print(ochl[-1])\n",
    "    '''\n",
    "    fig, ax = plt.subplots()\n",
    "    mpl_finance.candlestick_ochl(ax, ochl, width=1)\n",
    "    ax.set(xlabel='Date', ylabel='Price', title='{} {}-{}'.format(symbol, start, end))\n",
    "    plt.show(block=False)\n",
    "    plt.pause(3)\n",
    "    plt.close()\n",
    "    '''\n",
    "    return ochl\n"
   ]
  },
  {
   "cell_type": "code",
   "execution_count": 114,
   "metadata": {},
   "outputs": [],
   "source": [
    "def Main():\n",
    "    list_of_symbols = ['XMRUSDT', 'LINKUSDT', 'LTCUSDT', 'BNBUSDT', 'EOSUSDT', 'BTCUSDT', 'ETHUSDT', 'XRPUSDT']  # Symbols to be traded\n",
    "    quantity_1 = 5 # any value between 1-4 : 1 =100%, 2=50%, 3 = 33%, 4 = 25%, 5 = 20% and so on...\n",
    "    max_amount = 10000  # Maximum authorized amount\n",
    "    loss_limit = -50  # Maximum loss limit to terminate the trading in dollar\n",
    "    buy_percent = 0.004 # percent at which it should buy, currently 0.15% = 0.15/100 = 0.0015\n",
    "    sell_percent = -0.006 # percent at which it should sell, currently 0.1%\n",
    "    loss_percent = -0.002 # stop loss if price falls, currently -0.3%\n",
    "    transaction = 150 # number of maximum transactions\n",
    "    buy_range = 0.005  # allowed buy upto, currently 1.5%\n",
    "    sleep_time = 20   # according to candle interval 15 for 5 MINUTE, 30 for 30 MINUTE, 45 for 1 HOUR\n",
    "    spent_amount = 0\n",
    "    count = 0\n",
    "    buy_open = [] # to avoid multiple buy at same candle \n",
    "    high ={} \n",
    "    symbols_csv_files = []\n",
    "    while True:\n",
    "        client.get_deposit_address(asset='USDT')  # USDT or BTC\n",
    "\n",
    "        try:\n",
    "            for symbol in list_of_symbols:\n",
    "                \n",
    "                # My modifications\n",
    "                ochl = get_historic_klines(symbol, \"Jan 1, 2018\", \"May 1, 2020\", Client.KLINE_INTERVAL_1DAY)\n",
    "                open1, close, high1,high_past = ochl[-1][1], ochl[-1][2],ochl[-1][3],ochl[-2][3]\n",
    "                \n",
    "                if symbol not in symbols_csv_files:\n",
    "                    df = pd.DataFrame(ochl, columns=[\"date\", \"open\", \"close\", \"high\", \"low\", \"volume\"])\n",
    "                    \n",
    "                    f_name = str(symbol) + \".csv\"\n",
    "                    for i in df.index:\n",
    "                        df.at[i,'date'] = datetime.fromtimestamp((int(df.at[i,'date']))/1000.0).date()\n",
    "                    symbols_csv_files.append(symbol)\n",
    "                    print(symbol)\n",
    "                    print(df)\n",
    "                    df.to_csv(f_name, columns=[\"date\", \"open\", \"close\", \"high\", \"low\", \"volume\"])\n",
    "                \n",
    "                if symbol in high:\n",
    "                    #print(high1)\n",
    "                    if high1>high_past and open1 not in buy_open:\n",
    "                        high[symbol] = high1\n",
    "                    elif high1>high[symbol]:\n",
    "                        high[symbol]=high1\n",
    "                symbol = str(symbol)\n",
    "                if open1 not in buy_open:        \n",
    "                    if (close  >= (1+buy_percent) * open1) and (symbol not in buy.keys()) and close < (1+buy_range) * open1:\n",
    "                        if spent_amount <= max_amount:\n",
    "                            count += 1\n",
    "                            quantity[symbol] = (max_amount / (quantity_1 * close))\n",
    "                            quantity1 = quantity[symbol]\n",
    "                            buy_open.append(open1)\n",
    "                            high[symbol] = high1\n",
    "                                      \n",
    "                            '''\n",
    "                            client.order_limit_buy(\n",
    "                                symbol=symbol,\n",
    "                                quantity=quantity[symbol],\n",
    "                                price=close  # comment this line to buy at market price\n",
    "                                )\n",
    "                            '''\n",
    "                            spent_amount += close * quantity1\n",
    "                            buy[symbol] = close\n",
    "                            print('Bought ' + symbol + ' at ' + str(close))\n",
    "\n",
    "                            df1 = pd.DataFrame({'Datetime': [datetime.now(tz)], 'Symbol': [symbol], 'Buy/Sell': ['Buy'],\n",
    "                                        'Quantity': [quantity1], 'Price': [close], 'Profit/loss': [0]})\n",
    "                            df1['Datetime'] = df1['Datetime'].apply(lambda x: x.strftime('%Y-%m-%d %H:%M:%S'))\n",
    "                            if not os.path.isfile('Binance.csv'):\n",
    "                                df1.to_csv('Binance.csv', index=False)\n",
    "                            else:\n",
    "                                df1.to_csv('Binance.csv', index=False, mode='a', header=False)\n",
    "\n",
    "                if symbol in buy:\n",
    "                    #print(close, high[symbol], high1)\n",
    "                    if (close <= high[symbol] * (1+sell_percent)) or (close  <= (1+loss_percent) * buy[symbol]):\n",
    "                        '''\n",
    "                        client.order_limit_sell(\n",
    "                          symbol=symbol,\n",
    "                          quantity=quantity[symbol],\n",
    "                          price=close  # comment this line to sell at market price\n",
    "                          )\n",
    "                        '''\n",
    "                        if close <= high[symbol]*(1+sell_percent):\n",
    "                            print('high limit' )\n",
    "                        profit = close - buy[symbol]\n",
    "                        max_amount += profit\n",
    "                        quantity1 = quantity[symbol]\n",
    "                        spent_amount -= quantity1 * buy[symbol]\n",
    "                        total_profit = profit * quantity1\n",
    "                        print(\"SELL \" + symbol + \" at \" + str(close))\n",
    "                        print(\"Profit made \" + str(total_profit))\n",
    "\n",
    "                        df2 = pd.DataFrame({'Datetime': [datetime.now(tz)], 'Symbol': [symbol], 'Buy/Sell': ['Sell'],\n",
    "                                        'Quantity': [quantity1], 'Price': [close], 'Profit/loss': [total_profit]})\n",
    "                        df2['Datetime'] = df2['Datetime'].apply(lambda x: x.strftime('%Y-%m-%d %H:%M:%S'))\n",
    "                        df2.to_csv('Binance.csv', index=False, mode='a', header=False)\n",
    "\n",
    "                        loss.append(total_profit)\n",
    "                        if count >= len(list_of_symbols):\n",
    "                            loss.pop(0)\n",
    "                        buy.pop(symbol)  # Removing the sold symbol\n",
    "\n",
    "                if (loss_limit > sum(loss)) or (count > int(transaction)):\n",
    "                    print(\"Quitting....\")\n",
    "                    raise SystemExit\n",
    "\n",
    "            time.sleep(sleep_time)\n",
    "\n",
    "        except BinanceAPIException as e:\n",
    "            print(e,symbol)\n",
    "        except KeyboardInterrupt:\n",
    "            print(\"Total Profit \" + str(sum(loss)))\n",
    "            break\n",
    "\n",
    "        except SystemExit:\n",
    "            print(\"Exit\")\n",
    "            print(\"Total Profit \" + str(sum(loss)))\n",
    "            break\n"
   ]
  },
  {
   "cell_type": "code",
   "execution_count": 115,
   "metadata": {
    "scrolled": true
   },
   "outputs": [
    {
     "name": "stderr",
     "output_type": "stream",
     "text": [
      "2020-05-25 22:55:29 darkdevil urllib3.connectionpool[3432] DEBUG Starting new HTTPS connection (2): api.binance.com:443\n"
     ]
    },
    {
     "name": "stdout",
     "output_type": "stream",
     "text": [
      "Inside main\n"
     ]
    },
    {
     "name": "stderr",
     "output_type": "stream",
     "text": [
      "2020-05-25 22:55:30 darkdevil urllib3.connectionpool[3432] DEBUG https://api.binance.com:443 \"GET /wapi/v3/depositAddress.html?asset=USDT&timestamp=1590427529390&signature=2a6bb8c64f6207e3cc6d8bea71bd32bc5b45670afb7c6071ed494de7ba692e41 HTTP/1.1\" 200 182\n",
      "2020-05-25 22:55:30 darkdevil urllib3.connectionpool[3432] DEBUG https://api.binance.com:443 \"GET /api/v1/klines?endTime=1588291200000&interval=1d&limit=50&startTime=1514764800000&symbol=XMRUSDT HTTP/1.1\" 200 None\n",
      "2020-05-25 22:55:30 darkdevil urllib3.connectionpool[3432] DEBUG https://api.binance.com:443 \"GET /api/v1/klines?endTime=1588291200000&interval=1d&limit=50&startTime=1556928000000&symbol=XMRUSDT HTTP/1.1\" 200 None\n",
      "2020-05-25 22:55:30 darkdevil urllib3.connectionpool[3432] DEBUG https://api.binance.com:443 \"GET /api/v1/klines?endTime=1588291200000&interval=1d&limit=50&startTime=1561248000000&symbol=XMRUSDT HTTP/1.1\" 200 None\n",
      "2020-05-25 22:55:31 darkdevil urllib3.connectionpool[3432] DEBUG https://api.binance.com:443 \"GET /api/v1/klines?endTime=1588291200000&interval=1d&limit=50&startTime=1565568000000&symbol=XMRUSDT HTTP/1.1\" 200 None\n",
      "2020-05-25 22:55:32 darkdevil urllib3.connectionpool[3432] DEBUG https://api.binance.com:443 \"GET /api/v1/klines?endTime=1588291200000&interval=1d&limit=50&startTime=1569888000000&symbol=XMRUSDT HTTP/1.1\" 200 None\n",
      "2020-05-25 22:55:32 darkdevil urllib3.connectionpool[3432] DEBUG https://api.binance.com:443 \"GET /api/v1/klines?endTime=1588291200000&interval=1d&limit=50&startTime=1574208000000&symbol=XMRUSDT HTTP/1.1\" 200 None\n",
      "2020-05-25 22:55:33 darkdevil urllib3.connectionpool[3432] DEBUG https://api.binance.com:443 \"GET /api/v1/klines?endTime=1588291200000&interval=1d&limit=50&startTime=1578528000000&symbol=XMRUSDT HTTP/1.1\" 200 None\n",
      "2020-05-25 22:55:33 darkdevil urllib3.connectionpool[3432] DEBUG https://api.binance.com:443 \"GET /api/v1/klines?endTime=1588291200000&interval=1d&limit=50&startTime=1582848000000&symbol=XMRUSDT HTTP/1.1\" 200 None\n",
      "2020-05-25 22:55:34 darkdevil urllib3.connectionpool[3432] DEBUG https://api.binance.com:443 \"GET /api/v1/klines?endTime=1588291200000&interval=1d&limit=50&startTime=1587168000000&symbol=XMRUSDT HTTP/1.1\" 200 None\n"
     ]
    },
    {
     "name": "stdout",
     "output_type": "stream",
     "text": [
      "XMRUSDT\n",
      "           date   open  close   high    low        volume\n",
      "0    2019-03-15  51.99  52.10  52.22  48.67    4908.53770\n",
      "1    2019-03-16  52.10  53.35  54.89  52.10    8103.46093\n",
      "2    2019-03-17  53.56  52.36  53.57  51.54    3314.97426\n",
      "3    2019-03-18  52.38  52.06  53.01  51.27    4037.80163\n",
      "4    2019-03-19  51.93  52.90  54.00  51.61    6567.87086\n",
      "..          ...    ...    ...    ...    ...           ...\n",
      "409  2020-04-27  61.36  62.36  62.48  60.91   56186.86538\n",
      "410  2020-04-28  62.40  62.07  63.83  61.22   81842.32202\n",
      "411  2020-04-29  62.05  66.32  66.89  61.63  125685.27454\n",
      "412  2020-04-30  66.31  62.28  68.42  61.11  125526.44439\n",
      "413  2020-05-01  62.26  63.45  65.00  62.20   49802.91724\n",
      "\n",
      "[414 rows x 6 columns]\n"
     ]
    },
    {
     "name": "stderr",
     "output_type": "stream",
     "text": [
      "2020-05-25 22:55:35 darkdevil urllib3.connectionpool[3432] DEBUG https://api.binance.com:443 \"GET /api/v1/klines?endTime=1588291200000&interval=1d&limit=50&startTime=1514764800000&symbol=LINKUSDT HTTP/1.1\" 200 None\n",
      "2020-05-25 22:55:35 darkdevil urllib3.connectionpool[3432] DEBUG https://api.binance.com:443 \"GET /api/v1/klines?endTime=1588291200000&interval=1d&limit=50&startTime=1551916800000&symbol=LINKUSDT HTTP/1.1\" 200 None\n",
      "2020-05-25 22:55:36 darkdevil urllib3.connectionpool[3432] DEBUG https://api.binance.com:443 \"GET /api/v1/klines?endTime=1588291200000&interval=1d&limit=50&startTime=1556236800000&symbol=LINKUSDT HTTP/1.1\" 200 None\n",
      "2020-05-25 22:55:37 darkdevil urllib3.connectionpool[3432] DEBUG https://api.binance.com:443 \"GET /api/v1/klines?endTime=1588291200000&interval=1d&limit=50&startTime=1560556800000&symbol=LINKUSDT HTTP/1.1\" 200 None\n",
      "2020-05-25 22:55:38 darkdevil urllib3.connectionpool[3432] DEBUG https://api.binance.com:443 \"GET /api/v1/klines?endTime=1588291200000&interval=1d&limit=50&startTime=1564876800000&symbol=LINKUSDT HTTP/1.1\" 200 None\n",
      "2020-05-25 22:55:38 darkdevil urllib3.connectionpool[3432] DEBUG https://api.binance.com:443 \"GET /api/v1/klines?endTime=1588291200000&interval=1d&limit=50&startTime=1569196800000&symbol=LINKUSDT HTTP/1.1\" 200 None\n",
      "2020-05-25 22:55:40 darkdevil urllib3.connectionpool[3432] DEBUG https://api.binance.com:443 \"GET /api/v1/klines?endTime=1588291200000&interval=1d&limit=50&startTime=1573516800000&symbol=LINKUSDT HTTP/1.1\" 200 None\n",
      "2020-05-25 22:55:40 darkdevil urllib3.connectionpool[3432] DEBUG https://api.binance.com:443 \"GET /api/v1/klines?endTime=1588291200000&interval=1d&limit=50&startTime=1577836800000&symbol=LINKUSDT HTTP/1.1\" 200 None\n",
      "2020-05-25 22:55:41 darkdevil urllib3.connectionpool[3432] DEBUG https://api.binance.com:443 \"GET /api/v1/klines?endTime=1588291200000&interval=1d&limit=50&startTime=1582156800000&symbol=LINKUSDT HTTP/1.1\" 200 None\n",
      "2020-05-25 22:55:42 darkdevil urllib3.connectionpool[3432] DEBUG https://api.binance.com:443 \"GET /api/v1/klines?endTime=1588291200000&interval=1d&limit=50&startTime=1586476800000&symbol=LINKUSDT HTTP/1.1\" 200 None\n"
     ]
    },
    {
     "name": "stdout",
     "output_type": "stream",
     "text": [
      "LINKUSDT\n",
      "           date    open   close    high     low       volume\n",
      "0    2019-01-16  0.5355  0.4895  0.5355  0.4668   1343660.31\n",
      "1    2019-01-17  0.4895  0.4756  0.4953  0.4639   1411725.35\n",
      "2    2019-01-18  0.4762  0.4894  0.5112  0.4601    984417.59\n",
      "3    2019-01-19  0.4908  0.4831  0.5000  0.4673    735443.20\n",
      "4    2019-01-20  0.4803  0.4834  0.4920  0.4590    677499.56\n",
      "..          ...     ...     ...     ...     ...          ...\n",
      "467  2020-04-27  3.7212  3.6383  3.7385  3.4621  11371929.86\n",
      "468  2020-04-28  3.6373  3.6413  3.7354  3.5554   7379317.23\n",
      "469  2020-04-29  3.6422  3.8879  3.9918  3.6300  15125283.54\n",
      "470  2020-04-30  3.8881  3.7025  3.9741  3.6200  13545136.02\n",
      "471  2020-05-01  3.7014  3.7571  3.9162  3.7003   8084328.36\n",
      "\n",
      "[472 rows x 6 columns]\n"
     ]
    },
    {
     "name": "stderr",
     "output_type": "stream",
     "text": [
      "2020-05-25 22:55:42 darkdevil urllib3.connectionpool[3432] DEBUG https://api.binance.com:443 \"GET /api/v1/klines?endTime=1588291200000&interval=1d&limit=50&startTime=1514764800000&symbol=LTCUSDT HTTP/1.1\" 200 None\n",
      "2020-05-25 22:55:43 darkdevil urllib3.connectionpool[3432] DEBUG https://api.binance.com:443 \"GET /api/v1/klines?endTime=1588291200000&interval=1d&limit=50&startTime=1519084800000&symbol=LTCUSDT HTTP/1.1\" 200 None\n",
      "2020-05-25 22:55:43 darkdevil urllib3.connectionpool[3432] DEBUG https://api.binance.com:443 \"GET /api/v1/klines?endTime=1588291200000&interval=1d&limit=50&startTime=1523404800000&symbol=LTCUSDT HTTP/1.1\" 200 None\n",
      "2020-05-25 22:55:44 darkdevil urllib3.connectionpool[3432] DEBUG https://api.binance.com:443 \"GET /api/v1/klines?endTime=1588291200000&interval=1d&limit=50&startTime=1527724800000&symbol=LTCUSDT HTTP/1.1\" 200 None\n",
      "2020-05-25 22:55:44 darkdevil urllib3.connectionpool[3432] DEBUG https://api.binance.com:443 \"GET /api/v1/klines?endTime=1588291200000&interval=1d&limit=50&startTime=1532044800000&symbol=LTCUSDT HTTP/1.1\" 200 None\n",
      "2020-05-25 22:55:45 darkdevil urllib3.connectionpool[3432] DEBUG https://api.binance.com:443 \"GET /api/v1/klines?endTime=1588291200000&interval=1d&limit=50&startTime=1536364800000&symbol=LTCUSDT HTTP/1.1\" 200 None\n",
      "2020-05-25 22:55:46 darkdevil urllib3.connectionpool[3432] DEBUG https://api.binance.com:443 \"GET /api/v1/klines?endTime=1588291200000&interval=1d&limit=50&startTime=1540684800000&symbol=LTCUSDT HTTP/1.1\" 200 None\n",
      "2020-05-25 22:55:46 darkdevil urllib3.connectionpool[3432] DEBUG https://api.binance.com:443 \"GET /api/v1/klines?endTime=1588291200000&interval=1d&limit=50&startTime=1545004800000&symbol=LTCUSDT HTTP/1.1\" 200 None\n",
      "2020-05-25 22:55:47 darkdevil urllib3.connectionpool[3432] DEBUG https://api.binance.com:443 \"GET /api/v1/klines?endTime=1588291200000&interval=1d&limit=50&startTime=1549324800000&symbol=LTCUSDT HTTP/1.1\" 200 None\n",
      "2020-05-25 22:55:48 darkdevil urllib3.connectionpool[3432] DEBUG https://api.binance.com:443 \"GET /api/v1/klines?endTime=1588291200000&interval=1d&limit=50&startTime=1553644800000&symbol=LTCUSDT HTTP/1.1\" 200 None\n",
      "2020-05-25 22:55:48 darkdevil urllib3.connectionpool[3432] DEBUG https://api.binance.com:443 \"GET /api/v1/klines?endTime=1588291200000&interval=1d&limit=50&startTime=1557964800000&symbol=LTCUSDT HTTP/1.1\" 200 None\n",
      "2020-05-25 22:55:48 darkdevil urllib3.connectionpool[3432] DEBUG https://api.binance.com:443 \"GET /api/v1/klines?endTime=1588291200000&interval=1d&limit=50&startTime=1562284800000&symbol=LTCUSDT HTTP/1.1\" 200 None\n",
      "2020-05-25 22:55:49 darkdevil urllib3.connectionpool[3432] DEBUG https://api.binance.com:443 \"GET /api/v1/klines?endTime=1588291200000&interval=1d&limit=50&startTime=1566604800000&symbol=LTCUSDT HTTP/1.1\" 200 None\n",
      "2020-05-25 22:55:50 darkdevil urllib3.connectionpool[3432] DEBUG https://api.binance.com:443 \"GET /api/v1/klines?endTime=1588291200000&interval=1d&limit=50&startTime=1570924800000&symbol=LTCUSDT HTTP/1.1\" 200 None\n",
      "2020-05-25 22:55:50 darkdevil urllib3.connectionpool[3432] DEBUG https://api.binance.com:443 \"GET /api/v1/klines?endTime=1588291200000&interval=1d&limit=50&startTime=1575244800000&symbol=LTCUSDT HTTP/1.1\" 200 None\n",
      "2020-05-25 22:55:51 darkdevil urllib3.connectionpool[3432] DEBUG https://api.binance.com:443 \"GET /api/v1/klines?endTime=1588291200000&interval=1d&limit=50&startTime=1579564800000&symbol=LTCUSDT HTTP/1.1\" 200 None\n",
      "2020-05-25 22:55:51 darkdevil urllib3.connectionpool[3432] DEBUG https://api.binance.com:443 \"GET /api/v1/klines?endTime=1588291200000&interval=1d&limit=50&startTime=1583884800000&symbol=LTCUSDT HTTP/1.1\" 200 None\n",
      "2020-05-25 22:55:51 darkdevil urllib3.connectionpool[3432] DEBUG https://api.binance.com:443 \"GET /api/v1/klines?endTime=1588291200000&interval=1d&limit=50&startTime=1588204800000&symbol=LTCUSDT HTTP/1.1\" 200 None\n"
     ]
    },
    {
     "name": "stdout",
     "output_type": "stream",
     "text": [
      "LTCUSDT\n",
      "           date    open   close    high     low        volume\n",
      "0    2018-01-01  223.69  222.61  231.19  212.74  2.022125e+04\n",
      "1    2018-01-02  222.62  247.33  256.49  222.62  6.329313e+04\n",
      "2    2018-01-03  247.33  238.77  253.40  233.56  7.136927e+04\n",
      "3    2018-01-04  238.89  233.00  240.00  219.38  7.818230e+04\n",
      "4    2018-01-05  233.04  240.54  250.99  230.00  6.501014e+04\n",
      "..          ...     ...     ...     ...     ...           ...\n",
      "847  2020-04-27   44.54   44.46   45.23   43.16  4.435707e+05\n",
      "848  2020-04-28   44.47   45.69   46.13   43.42  5.900125e+05\n",
      "849  2020-04-29   45.69   48.81   49.91   45.64  1.198087e+06\n",
      "850  2020-04-30   48.81   46.33   50.80   45.59  1.404190e+06\n",
      "851  2020-05-01   46.33   47.07   48.27   46.30  4.997580e+05\n",
      "\n",
      "[852 rows x 6 columns]\n"
     ]
    },
    {
     "name": "stderr",
     "output_type": "stream",
     "text": [
      "2020-05-25 22:55:52 darkdevil urllib3.connectionpool[3432] DEBUG https://api.binance.com:443 \"GET /api/v1/klines?endTime=1588291200000&interval=1d&limit=50&startTime=1514764800000&symbol=BNBUSDT HTTP/1.1\" 200 None\n",
      "2020-05-25 22:55:52 darkdevil urllib3.connectionpool[3432] DEBUG https://api.binance.com:443 \"GET /api/v1/klines?endTime=1588291200000&interval=1d&limit=50&startTime=1519084800000&symbol=BNBUSDT HTTP/1.1\" 200 None\n",
      "2020-05-25 22:55:52 darkdevil urllib3.connectionpool[3432] DEBUG https://api.binance.com:443 \"GET /api/v1/klines?endTime=1588291200000&interval=1d&limit=50&startTime=1523404800000&symbol=BNBUSDT HTTP/1.1\" 200 None\n",
      "2020-05-25 22:55:53 darkdevil urllib3.connectionpool[3432] DEBUG https://api.binance.com:443 \"GET /api/v1/klines?endTime=1588291200000&interval=1d&limit=50&startTime=1527724800000&symbol=BNBUSDT HTTP/1.1\" 200 None\n",
      "2020-05-25 22:55:54 darkdevil urllib3.connectionpool[3432] DEBUG https://api.binance.com:443 \"GET /api/v1/klines?endTime=1588291200000&interval=1d&limit=50&startTime=1532044800000&symbol=BNBUSDT HTTP/1.1\" 200 None\n",
      "2020-05-25 22:55:54 darkdevil urllib3.connectionpool[3432] DEBUG https://api.binance.com:443 \"GET /api/v1/klines?endTime=1588291200000&interval=1d&limit=50&startTime=1536364800000&symbol=BNBUSDT HTTP/1.1\" 200 None\n",
      "2020-05-25 22:55:55 darkdevil urllib3.connectionpool[3432] DEBUG https://api.binance.com:443 \"GET /api/v1/klines?endTime=1588291200000&interval=1d&limit=50&startTime=1540684800000&symbol=BNBUSDT HTTP/1.1\" 200 None\n",
      "2020-05-25 22:55:55 darkdevil urllib3.connectionpool[3432] DEBUG https://api.binance.com:443 \"GET /api/v1/klines?endTime=1588291200000&interval=1d&limit=50&startTime=1545004800000&symbol=BNBUSDT HTTP/1.1\" 200 None\n",
      "2020-05-25 22:55:56 darkdevil urllib3.connectionpool[3432] DEBUG https://api.binance.com:443 \"GET /api/v1/klines?endTime=1588291200000&interval=1d&limit=50&startTime=1549324800000&symbol=BNBUSDT HTTP/1.1\" 200 None\n",
      "2020-05-25 22:55:57 darkdevil urllib3.connectionpool[3432] DEBUG https://api.binance.com:443 \"GET /api/v1/klines?endTime=1588291200000&interval=1d&limit=50&startTime=1553644800000&symbol=BNBUSDT HTTP/1.1\" 200 None\n",
      "2020-05-25 22:55:57 darkdevil urllib3.connectionpool[3432] DEBUG https://api.binance.com:443 \"GET /api/v1/klines?endTime=1588291200000&interval=1d&limit=50&startTime=1557964800000&symbol=BNBUSDT HTTP/1.1\" 200 None\n",
      "2020-05-25 22:55:57 darkdevil urllib3.connectionpool[3432] DEBUG https://api.binance.com:443 \"GET /api/v1/klines?endTime=1588291200000&interval=1d&limit=50&startTime=1562284800000&symbol=BNBUSDT HTTP/1.1\" 200 None\n",
      "2020-05-25 22:55:58 darkdevil urllib3.connectionpool[3432] DEBUG https://api.binance.com:443 \"GET /api/v1/klines?endTime=1588291200000&interval=1d&limit=50&startTime=1566604800000&symbol=BNBUSDT HTTP/1.1\" 200 None\n",
      "2020-05-25 22:55:59 darkdevil urllib3.connectionpool[3432] DEBUG https://api.binance.com:443 \"GET /api/v1/klines?endTime=1588291200000&interval=1d&limit=50&startTime=1570924800000&symbol=BNBUSDT HTTP/1.1\" 200 None\n",
      "2020-05-25 22:55:59 darkdevil urllib3.connectionpool[3432] DEBUG https://api.binance.com:443 \"GET /api/v1/klines?endTime=1588291200000&interval=1d&limit=50&startTime=1575244800000&symbol=BNBUSDT HTTP/1.1\" 200 None\n",
      "2020-05-25 22:56:00 darkdevil urllib3.connectionpool[3432] DEBUG https://api.binance.com:443 \"GET /api/v1/klines?endTime=1588291200000&interval=1d&limit=50&startTime=1579564800000&symbol=BNBUSDT HTTP/1.1\" 200 None\n",
      "2020-05-25 22:56:01 darkdevil urllib3.connectionpool[3432] DEBUG https://api.binance.com:443 \"GET /api/v1/klines?endTime=1588291200000&interval=1d&limit=50&startTime=1583884800000&symbol=BNBUSDT HTTP/1.1\" 200 None\n",
      "2020-05-25 22:56:01 darkdevil urllib3.connectionpool[3432] DEBUG https://api.binance.com:443 \"GET /api/v1/klines?endTime=1588291200000&interval=1d&limit=50&startTime=1588204800000&symbol=BNBUSDT HTTP/1.1\" 200 None\n"
     ]
    },
    {
     "name": "stdout",
     "output_type": "stream",
     "text": [
      "BNBUSDT\n",
      "           date     open    close     high      low      volume\n",
      "0    2018-01-01   8.5478   8.4500   8.7000   7.8000   654338.84\n",
      "1    2018-01-02   8.4500   8.7150   9.1133   8.0922  1262633.42\n",
      "2    2018-01-03   8.7151   9.3040   9.4697   8.2653   947392.65\n",
      "3    2018-01-04   9.3040   9.1430   9.6511   8.5595   964494.94\n",
      "4    2018-01-05   9.1350  14.8908  16.8172   8.9651  2764977.04\n",
      "..          ...      ...      ...      ...      ...         ...\n",
      "847  2020-04-27  16.3645  16.4229  16.5600  16.0630  2937287.36\n",
      "848  2020-04-28  16.4199  16.3400  16.4900  16.1125  2838511.43\n",
      "849  2020-04-29  16.3354  17.3667  17.5171  16.3000  3817656.70\n",
      "850  2020-04-30  17.3754  16.9542  18.1377  16.5000  4127322.51\n",
      "851  2020-05-01  16.9510  17.4660  17.8551  16.9381  3805293.67\n",
      "\n",
      "[852 rows x 6 columns]\n"
     ]
    },
    {
     "name": "stderr",
     "output_type": "stream",
     "text": [
      "2020-05-25 22:56:01 darkdevil urllib3.connectionpool[3432] DEBUG https://api.binance.com:443 \"GET /api/v1/klines?endTime=1588291200000&interval=1d&limit=50&startTime=1514764800000&symbol=EOSUSDT HTTP/1.1\" 200 None\n",
      "2020-05-25 22:56:01 darkdevil urllib3.connectionpool[3432] DEBUG https://api.binance.com:443 \"GET /api/v1/klines?endTime=1588291200000&interval=1d&limit=50&startTime=1531785600000&symbol=EOSUSDT HTTP/1.1\" 200 None\n",
      "2020-05-25 22:56:02 darkdevil urllib3.connectionpool[3432] DEBUG https://api.binance.com:443 \"GET /api/v1/klines?endTime=1588291200000&interval=1d&limit=50&startTime=1536105600000&symbol=EOSUSDT HTTP/1.1\" 200 None\n",
      "2020-05-25 22:56:03 darkdevil urllib3.connectionpool[3432] DEBUG https://api.binance.com:443 \"GET /api/v1/klines?endTime=1588291200000&interval=1d&limit=50&startTime=1540425600000&symbol=EOSUSDT HTTP/1.1\" 200 None\n",
      "2020-05-25 22:56:03 darkdevil urllib3.connectionpool[3432] DEBUG https://api.binance.com:443 \"GET /api/v1/klines?endTime=1588291200000&interval=1d&limit=50&startTime=1544745600000&symbol=EOSUSDT HTTP/1.1\" 200 None\n",
      "2020-05-25 22:56:03 darkdevil urllib3.connectionpool[3432] DEBUG https://api.binance.com:443 \"GET /api/v1/klines?endTime=1588291200000&interval=1d&limit=50&startTime=1549065600000&symbol=EOSUSDT HTTP/1.1\" 200 None\n",
      "2020-05-25 22:56:05 darkdevil urllib3.connectionpool[3432] DEBUG https://api.binance.com:443 \"GET /api/v1/klines?endTime=1588291200000&interval=1d&limit=50&startTime=1553385600000&symbol=EOSUSDT HTTP/1.1\" 200 None\n",
      "2020-05-25 22:56:05 darkdevil urllib3.connectionpool[3432] DEBUG https://api.binance.com:443 \"GET /api/v1/klines?endTime=1588291200000&interval=1d&limit=50&startTime=1557705600000&symbol=EOSUSDT HTTP/1.1\" 200 None\n",
      "2020-05-25 22:56:05 darkdevil urllib3.connectionpool[3432] DEBUG https://api.binance.com:443 \"GET /api/v1/klines?endTime=1588291200000&interval=1d&limit=50&startTime=1562025600000&symbol=EOSUSDT HTTP/1.1\" 200 None\n",
      "2020-05-25 22:56:06 darkdevil urllib3.connectionpool[3432] DEBUG https://api.binance.com:443 \"GET /api/v1/klines?endTime=1588291200000&interval=1d&limit=50&startTime=1566345600000&symbol=EOSUSDT HTTP/1.1\" 200 None\n",
      "2020-05-25 22:56:06 darkdevil urllib3.connectionpool[3432] DEBUG https://api.binance.com:443 \"GET /api/v1/klines?endTime=1588291200000&interval=1d&limit=50&startTime=1570665600000&symbol=EOSUSDT HTTP/1.1\" 200 None\n",
      "2020-05-25 22:56:07 darkdevil urllib3.connectionpool[3432] DEBUG https://api.binance.com:443 \"GET /api/v1/klines?endTime=1588291200000&interval=1d&limit=50&startTime=1574985600000&symbol=EOSUSDT HTTP/1.1\" 200 None\n",
      "2020-05-25 22:56:08 darkdevil urllib3.connectionpool[3432] DEBUG https://api.binance.com:443 \"GET /api/v1/klines?endTime=1588291200000&interval=1d&limit=50&startTime=1579305600000&symbol=EOSUSDT HTTP/1.1\" 200 None\n",
      "2020-05-25 22:56:08 darkdevil urllib3.connectionpool[3432] DEBUG https://api.binance.com:443 \"GET /api/v1/klines?endTime=1588291200000&interval=1d&limit=50&startTime=1583625600000&symbol=EOSUSDT HTTP/1.1\" 200 None\n",
      "2020-05-25 22:56:08 darkdevil urllib3.connectionpool[3432] DEBUG https://api.binance.com:443 \"GET /api/v1/klines?endTime=1588291200000&interval=1d&limit=50&startTime=1587945600000&symbol=EOSUSDT HTTP/1.1\" 200 None\n"
     ]
    },
    {
     "name": "stdout",
     "output_type": "stream",
     "text": [
      "EOSUSDT\n",
      "           date     open    close     high      low       volume\n",
      "0    2018-05-28  12.4900  11.4788  12.6500  11.2800   3494258.32\n",
      "1    2018-05-29  11.4853  12.1112  12.4650  10.7000   6709192.34\n",
      "2    2018-05-30  12.1113  11.8968  12.8200  11.6206   6514864.18\n",
      "3    2018-05-31  11.8712  12.2353  12.7400  11.8116   6540020.80\n",
      "4    2018-06-01  12.2351  12.2048  12.3889  11.8354   5946136.88\n",
      "..          ...      ...      ...      ...      ...          ...\n",
      "700  2020-04-27   2.7375   2.7430   2.8172   2.6801  12013467.24\n",
      "701  2020-04-28   2.7430   2.7614   2.7747   2.6874   8622299.02\n",
      "702  2020-04-29   2.7609   3.0059   3.0890   2.7551  21932316.85\n",
      "703  2020-04-30   3.0058   2.8220   3.1187   2.7477  19748582.59\n",
      "704  2020-05-01   2.8208   2.8731   2.9296   2.8195   8743612.12\n",
      "\n",
      "[705 rows x 6 columns]\n"
     ]
    },
    {
     "name": "stderr",
     "output_type": "stream",
     "text": [
      "2020-05-25 22:56:09 darkdevil urllib3.connectionpool[3432] DEBUG https://api.binance.com:443 \"GET /api/v1/klines?endTime=1588291200000&interval=1d&limit=50&startTime=1514764800000&symbol=BTCUSDT HTTP/1.1\" 200 None\n",
      "2020-05-25 22:56:09 darkdevil urllib3.connectionpool[3432] DEBUG https://api.binance.com:443 \"GET /api/v1/klines?endTime=1588291200000&interval=1d&limit=50&startTime=1519084800000&symbol=BTCUSDT HTTP/1.1\" 200 None\n",
      "2020-05-25 22:56:09 darkdevil urllib3.connectionpool[3432] DEBUG https://api.binance.com:443 \"GET /api/v1/klines?endTime=1588291200000&interval=1d&limit=50&startTime=1523404800000&symbol=BTCUSDT HTTP/1.1\" 200 None\n",
      "2020-05-25 22:56:10 darkdevil urllib3.connectionpool[3432] DEBUG https://api.binance.com:443 \"GET /api/v1/klines?endTime=1588291200000&interval=1d&limit=50&startTime=1527724800000&symbol=BTCUSDT HTTP/1.1\" 200 None\n",
      "2020-05-25 22:56:10 darkdevil urllib3.connectionpool[3432] DEBUG https://api.binance.com:443 \"GET /api/v1/klines?endTime=1588291200000&interval=1d&limit=50&startTime=1532044800000&symbol=BTCUSDT HTTP/1.1\" 200 None\n",
      "2020-05-25 22:56:11 darkdevil urllib3.connectionpool[3432] DEBUG https://api.binance.com:443 \"GET /api/v1/klines?endTime=1588291200000&interval=1d&limit=50&startTime=1536364800000&symbol=BTCUSDT HTTP/1.1\" 200 None\n",
      "2020-05-25 22:56:12 darkdevil urllib3.connectionpool[3432] DEBUG https://api.binance.com:443 \"GET /api/v1/klines?endTime=1588291200000&interval=1d&limit=50&startTime=1540684800000&symbol=BTCUSDT HTTP/1.1\" 200 None\n",
      "2020-05-25 22:56:12 darkdevil urllib3.connectionpool[3432] DEBUG https://api.binance.com:443 \"GET /api/v1/klines?endTime=1588291200000&interval=1d&limit=50&startTime=1545004800000&symbol=BTCUSDT HTTP/1.1\" 200 None\n",
      "2020-05-25 22:56:12 darkdevil urllib3.connectionpool[3432] DEBUG https://api.binance.com:443 \"GET /api/v1/klines?endTime=1588291200000&interval=1d&limit=50&startTime=1549324800000&symbol=BTCUSDT HTTP/1.1\" 200 None\n",
      "2020-05-25 22:56:13 darkdevil urllib3.connectionpool[3432] DEBUG https://api.binance.com:443 \"GET /api/v1/klines?endTime=1588291200000&interval=1d&limit=50&startTime=1553644800000&symbol=BTCUSDT HTTP/1.1\" 200 None\n",
      "2020-05-25 22:56:14 darkdevil urllib3.connectionpool[3432] DEBUG https://api.binance.com:443 \"GET /api/v1/klines?endTime=1588291200000&interval=1d&limit=50&startTime=1557964800000&symbol=BTCUSDT HTTP/1.1\" 200 None\n",
      "2020-05-25 22:56:14 darkdevil urllib3.connectionpool[3432] DEBUG https://api.binance.com:443 \"GET /api/v1/klines?endTime=1588291200000&interval=1d&limit=50&startTime=1562284800000&symbol=BTCUSDT HTTP/1.1\" 200 None\n",
      "2020-05-25 22:56:15 darkdevil urllib3.connectionpool[3432] DEBUG https://api.binance.com:443 \"GET /api/v1/klines?endTime=1588291200000&interval=1d&limit=50&startTime=1566604800000&symbol=BTCUSDT HTTP/1.1\" 200 None\n",
      "2020-05-25 22:56:15 darkdevil urllib3.connectionpool[3432] DEBUG https://api.binance.com:443 \"GET /api/v1/klines?endTime=1588291200000&interval=1d&limit=50&startTime=1570924800000&symbol=BTCUSDT HTTP/1.1\" 200 None\n",
      "2020-05-25 22:56:16 darkdevil urllib3.connectionpool[3432] DEBUG https://api.binance.com:443 \"GET /api/v1/klines?endTime=1588291200000&interval=1d&limit=50&startTime=1575244800000&symbol=BTCUSDT HTTP/1.1\" 200 None\n",
      "2020-05-25 22:56:17 darkdevil urllib3.connectionpool[3432] DEBUG https://api.binance.com:443 \"GET /api/v1/klines?endTime=1588291200000&interval=1d&limit=50&startTime=1579564800000&symbol=BTCUSDT HTTP/1.1\" 200 None\n",
      "2020-05-25 22:56:17 darkdevil urllib3.connectionpool[3432] DEBUG https://api.binance.com:443 \"GET /api/v1/klines?endTime=1588291200000&interval=1d&limit=50&startTime=1583884800000&symbol=BTCUSDT HTTP/1.1\" 200 None\n",
      "2020-05-25 22:56:17 darkdevil urllib3.connectionpool[3432] DEBUG https://api.binance.com:443 \"GET /api/v1/klines?endTime=1588291200000&interval=1d&limit=50&startTime=1588204800000&symbol=BTCUSDT HTTP/1.1\" 200 None\n"
     ]
    },
    {
     "name": "stdout",
     "output_type": "stream",
     "text": [
      "BTCUSDT\n",
      "           date      open     close      high       low         volume\n",
      "0    2018-01-01  13715.65  13380.00  13818.55  12750.00    8609.915844\n",
      "1    2018-01-02  13382.16  14675.11  15473.49  12890.02   20078.092111\n",
      "2    2018-01-03  14690.00  14919.51  15307.56  14150.00   15905.667639\n",
      "3    2018-01-04  14919.51  15059.54  15280.00  13918.04   21329.649574\n",
      "4    2018-01-05  15059.56  16960.39  17176.24  14600.00   23251.491125\n",
      "..          ...       ...       ...       ...       ...            ...\n",
      "847  2020-04-27   7693.10   7774.62   7792.02   7606.00   65441.339576\n",
      "848  2020-04-28   7773.51   7738.98   7780.00   7659.12   46302.752638\n",
      "849  2020-04-29   7738.58   8778.57   8952.89   7710.05  183546.887514\n",
      "850  2020-04-30   8778.58   8620.00   9460.00   8401.00  206277.214124\n",
      "851  2020-05-01   8620.00   8826.96   9059.18   8613.56   91468.815059\n",
      "\n",
      "[852 rows x 6 columns]\n"
     ]
    },
    {
     "name": "stderr",
     "output_type": "stream",
     "text": [
      "2020-05-25 22:56:18 darkdevil urllib3.connectionpool[3432] DEBUG https://api.binance.com:443 \"GET /api/v1/klines?endTime=1588291200000&interval=1d&limit=50&startTime=1514764800000&symbol=ETHUSDT HTTP/1.1\" 200 None\n",
      "2020-05-25 22:56:18 darkdevil urllib3.connectionpool[3432] DEBUG https://api.binance.com:443 \"GET /api/v1/klines?endTime=1588291200000&interval=1d&limit=50&startTime=1519084800000&symbol=ETHUSDT HTTP/1.1\" 200 None\n",
      "2020-05-25 22:56:18 darkdevil urllib3.connectionpool[3432] DEBUG https://api.binance.com:443 \"GET /api/v1/klines?endTime=1588291200000&interval=1d&limit=50&startTime=1523404800000&symbol=ETHUSDT HTTP/1.1\" 200 None\n",
      "2020-05-25 22:56:19 darkdevil urllib3.connectionpool[3432] DEBUG https://api.binance.com:443 \"GET /api/v1/klines?endTime=1588291200000&interval=1d&limit=50&startTime=1527724800000&symbol=ETHUSDT HTTP/1.1\" 200 None\n",
      "2020-05-25 22:56:20 darkdevil urllib3.connectionpool[3432] DEBUG https://api.binance.com:443 \"GET /api/v1/klines?endTime=1588291200000&interval=1d&limit=50&startTime=1532044800000&symbol=ETHUSDT HTTP/1.1\" 200 None\n",
      "2020-05-25 22:56:20 darkdevil urllib3.connectionpool[3432] DEBUG https://api.binance.com:443 \"GET /api/v1/klines?endTime=1588291200000&interval=1d&limit=50&startTime=1536364800000&symbol=ETHUSDT HTTP/1.1\" 200 None\n",
      "2020-05-25 22:56:21 darkdevil urllib3.connectionpool[3432] DEBUG https://api.binance.com:443 \"GET /api/v1/klines?endTime=1588291200000&interval=1d&limit=50&startTime=1540684800000&symbol=ETHUSDT HTTP/1.1\" 200 None\n",
      "2020-05-25 22:56:21 darkdevil urllib3.connectionpool[3432] DEBUG https://api.binance.com:443 \"GET /api/v1/klines?endTime=1588291200000&interval=1d&limit=50&startTime=1545004800000&symbol=ETHUSDT HTTP/1.1\" 200 None\n",
      "2020-05-25 22:56:21 darkdevil urllib3.connectionpool[3432] DEBUG https://api.binance.com:443 \"GET /api/v1/klines?endTime=1588291200000&interval=1d&limit=50&startTime=1549324800000&symbol=ETHUSDT HTTP/1.1\" 200 None\n",
      "2020-05-25 22:56:23 darkdevil urllib3.connectionpool[3432] DEBUG https://api.binance.com:443 \"GET /api/v1/klines?endTime=1588291200000&interval=1d&limit=50&startTime=1553644800000&symbol=ETHUSDT HTTP/1.1\" 200 None\n",
      "2020-05-25 22:56:23 darkdevil urllib3.connectionpool[3432] DEBUG https://api.binance.com:443 \"GET /api/v1/klines?endTime=1588291200000&interval=1d&limit=50&startTime=1557964800000&symbol=ETHUSDT HTTP/1.1\" 200 None\n",
      "2020-05-25 22:56:23 darkdevil urllib3.connectionpool[3432] DEBUG https://api.binance.com:443 \"GET /api/v1/klines?endTime=1588291200000&interval=1d&limit=50&startTime=1562284800000&symbol=ETHUSDT HTTP/1.1\" 200 None\n",
      "2020-05-25 22:56:24 darkdevil urllib3.connectionpool[3432] DEBUG https://api.binance.com:443 \"GET /api/v1/klines?endTime=1588291200000&interval=1d&limit=50&startTime=1566604800000&symbol=ETHUSDT HTTP/1.1\" 200 None\n",
      "2020-05-25 22:56:25 darkdevil urllib3.connectionpool[3432] DEBUG https://api.binance.com:443 \"GET /api/v1/klines?endTime=1588291200000&interval=1d&limit=50&startTime=1570924800000&symbol=ETHUSDT HTTP/1.1\" 200 None\n",
      "2020-05-25 22:56:25 darkdevil urllib3.connectionpool[3432] DEBUG https://api.binance.com:443 \"GET /api/v1/klines?endTime=1588291200000&interval=1d&limit=50&startTime=1575244800000&symbol=ETHUSDT HTTP/1.1\" 200 None\n",
      "2020-05-25 22:56:26 darkdevil urllib3.connectionpool[3432] DEBUG https://api.binance.com:443 \"GET /api/v1/klines?endTime=1588291200000&interval=1d&limit=50&startTime=1579564800000&symbol=ETHUSDT HTTP/1.1\" 200 None\n",
      "2020-05-25 22:56:26 darkdevil urllib3.connectionpool[3432] DEBUG https://api.binance.com:443 \"GET /api/v1/klines?endTime=1588291200000&interval=1d&limit=50&startTime=1583884800000&symbol=ETHUSDT HTTP/1.1\" 200 None\n",
      "2020-05-25 22:56:26 darkdevil urllib3.connectionpool[3432] DEBUG https://api.binance.com:443 \"GET /api/v1/klines?endTime=1588291200000&interval=1d&limit=50&startTime=1588204800000&symbol=ETHUSDT HTTP/1.1\" 200 None\n"
     ]
    },
    {
     "name": "stdout",
     "output_type": "stream",
     "text": [
      "ETHUSDT\n",
      "           date    open   close     high     low        volume\n",
      "0    2018-01-01  733.01  754.99   763.55  716.80  5.390926e+04\n",
      "1    2018-01-02  754.99  855.28   899.50  749.06  1.132578e+05\n",
      "2    2018-01-03  855.13  934.03   950.01  810.00  8.904146e+04\n",
      "3    2018-01-04  934.03  940.00  1009.72  890.01  1.028945e+05\n",
      "4    2018-01-05  940.00  959.30  1045.00  930.00  9.737402e+04\n",
      "..          ...     ...     ...      ...     ...           ...\n",
      "847  2020-04-27  197.39  196.34   199.05  189.29  8.966274e+05\n",
      "848  2020-04-28  196.33  196.24   198.50  192.36  6.368299e+05\n",
      "849  2020-04-29  196.24  215.36   218.77  196.22  1.620423e+06\n",
      "850  2020-04-30  215.40  206.08   227.30  202.00  1.749691e+06\n",
      "851  2020-05-01  206.07  212.02   217.14  205.91  7.949140e+05\n",
      "\n",
      "[852 rows x 6 columns]\n"
     ]
    },
    {
     "name": "stderr",
     "output_type": "stream",
     "text": [
      "2020-05-25 22:56:27 darkdevil urllib3.connectionpool[3432] DEBUG https://api.binance.com:443 \"GET /api/v1/klines?endTime=1588291200000&interval=1d&limit=50&startTime=1514764800000&symbol=XRPUSDT HTTP/1.1\" 200 None\n",
      "2020-05-25 22:56:27 darkdevil urllib3.connectionpool[3432] DEBUG https://api.binance.com:443 \"GET /api/v1/klines?endTime=1588291200000&interval=1d&limit=50&startTime=1529712000000&symbol=XRPUSDT HTTP/1.1\" 200 None\n",
      "2020-05-25 22:56:27 darkdevil urllib3.connectionpool[3432] DEBUG https://api.binance.com:443 \"GET /api/v1/klines?endTime=1588291200000&interval=1d&limit=50&startTime=1534032000000&symbol=XRPUSDT HTTP/1.1\" 200 None\n",
      "2020-05-25 22:56:28 darkdevil urllib3.connectionpool[3432] DEBUG https://api.binance.com:443 \"GET /api/v1/klines?endTime=1588291200000&interval=1d&limit=50&startTime=1538352000000&symbol=XRPUSDT HTTP/1.1\" 200 None\n",
      "2020-05-25 22:56:29 darkdevil urllib3.connectionpool[3432] DEBUG https://api.binance.com:443 \"GET /api/v1/klines?endTime=1588291200000&interval=1d&limit=50&startTime=1542672000000&symbol=XRPUSDT HTTP/1.1\" 200 None\n",
      "2020-05-25 22:56:29 darkdevil urllib3.connectionpool[3432] DEBUG https://api.binance.com:443 \"GET /api/v1/klines?endTime=1588291200000&interval=1d&limit=50&startTime=1546992000000&symbol=XRPUSDT HTTP/1.1\" 200 None\n",
      "2020-05-25 22:56:30 darkdevil urllib3.connectionpool[3432] DEBUG https://api.binance.com:443 \"GET /api/v1/klines?endTime=1588291200000&interval=1d&limit=50&startTime=1551312000000&symbol=XRPUSDT HTTP/1.1\" 200 None\n",
      "2020-05-25 22:56:30 darkdevil urllib3.connectionpool[3432] DEBUG https://api.binance.com:443 \"GET /api/v1/klines?endTime=1588291200000&interval=1d&limit=50&startTime=1555632000000&symbol=XRPUSDT HTTP/1.1\" 200 None\n",
      "2020-05-25 22:56:30 darkdevil urllib3.connectionpool[3432] DEBUG https://api.binance.com:443 \"GET /api/v1/klines?endTime=1588291200000&interval=1d&limit=50&startTime=1559952000000&symbol=XRPUSDT HTTP/1.1\" 200 None\n",
      "2020-05-25 22:56:32 darkdevil urllib3.connectionpool[3432] DEBUG https://api.binance.com:443 \"GET /api/v1/klines?endTime=1588291200000&interval=1d&limit=50&startTime=1564272000000&symbol=XRPUSDT HTTP/1.1\" 200 None\n",
      "2020-05-25 22:56:32 darkdevil urllib3.connectionpool[3432] DEBUG https://api.binance.com:443 \"GET /api/v1/klines?endTime=1588291200000&interval=1d&limit=50&startTime=1568592000000&symbol=XRPUSDT HTTP/1.1\" 200 None\n",
      "2020-05-25 22:56:32 darkdevil urllib3.connectionpool[3432] DEBUG https://api.binance.com:443 \"GET /api/v1/klines?endTime=1588291200000&interval=1d&limit=50&startTime=1572912000000&symbol=XRPUSDT HTTP/1.1\" 200 None\n",
      "2020-05-25 22:56:34 darkdevil urllib3.connectionpool[3432] DEBUG https://api.binance.com:443 \"GET /api/v1/klines?endTime=1588291200000&interval=1d&limit=50&startTime=1577232000000&symbol=XRPUSDT HTTP/1.1\" 200 None\n",
      "2020-05-25 22:56:34 darkdevil urllib3.connectionpool[3432] DEBUG https://api.binance.com:443 \"GET /api/v1/klines?endTime=1588291200000&interval=1d&limit=50&startTime=1581552000000&symbol=XRPUSDT HTTP/1.1\" 200 None\n",
      "2020-05-25 22:56:35 darkdevil urllib3.connectionpool[3432] DEBUG https://api.binance.com:443 \"GET /api/v1/klines?endTime=1588291200000&interval=1d&limit=50&startTime=1585872000000&symbol=XRPUSDT HTTP/1.1\" 200 None\n"
     ]
    },
    {
     "name": "stdout",
     "output_type": "stream",
     "text": [
      "XRPUSDT\n",
      "           date     open    close     high      low        volume\n",
      "0    2018-05-04  0.50000  0.88990  1.50000  0.50000  2.089021e+07\n",
      "1    2018-05-05  0.88980  0.90280  0.93500  0.88800  1.681617e+07\n",
      "2    2018-05-06  0.90280  0.86483  0.91800  0.83774  1.600204e+07\n",
      "3    2018-05-07  0.86482  0.82490  0.86886  0.80000  1.730349e+07\n",
      "4    2018-05-08  0.82490  0.80667  0.84802  0.79200  1.297130e+07\n",
      "..          ...      ...      ...      ...      ...           ...\n",
      "724  2020-04-27  0.19620  0.19747  0.19979  0.19407  1.045367e+08\n",
      "725  2020-04-28  0.19750  0.21416  0.21806  0.19459  2.448433e+08\n",
      "726  2020-04-29  0.21415  0.22648  0.23075  0.20981  2.920967e+08\n",
      "727  2020-04-30  0.22644  0.21135  0.23590  0.20816  3.140883e+08\n",
      "728  2020-05-01  0.21135  0.21786  0.22418  0.21117  1.603398e+08\n",
      "\n",
      "[729 rows x 6 columns]\n",
      "Total Profit 0\n"
     ]
    }
   ],
   "source": [
    "if __name__ == \"__main__\":\n",
    "    print(\"Inside main\")\n",
    "    Main()"
   ]
  },
  {
   "cell_type": "code",
   "execution_count": 86,
   "metadata": {},
   "outputs": [
    {
     "name": "stderr",
     "output_type": "stream",
     "text": [
      "Using TensorFlow backend.\n"
     ]
    }
   ],
   "source": [
    "import lxml.html as lh\n",
    "import time\n",
    "import urllib.request\n",
    "import argparse\n",
    "import urllib.request, urllib.parse, urllib.error\n",
    "import datetime\n",
    "import pytz\n",
    "from selenium import webdriver\n",
    "from selenium.common.exceptions import StaleElementReferenceException\n",
    "import os\n",
    "import coloredlogs\n",
    "import json\n",
    "import ssl\n",
    "from docopt import docopt\n",
    "from trading_bot.ops import get_state\n",
    "from trading_bot.agent import Agent\n",
    "from trading_bot.methods import evaluate_model\n",
    "from trading_bot.utils import (\n",
    "    get_stock_data,\n",
    "    format_currency,\n",
    "    format_position,\n",
    "    show_eval_result,\n",
    "    switch_k_backend_device\n",
    ")"
   ]
  },
  {
   "cell_type": "code",
   "execution_count": 87,
   "metadata": {},
   "outputs": [],
   "source": [
    "tz = pytz.timezone('Asia/Kolkata')\n",
    "ctx = ssl.create_default_context()\n",
    "ctx.check_hostname = False\n",
    "ctx.verify_mode = ssl.CERT_NONE"
   ]
  },
  {
   "cell_type": "code",
   "execution_count": 88,
   "metadata": {},
   "outputs": [],
   "source": [
    "def Real(url):\n",
    "    uh = urllib.request.urlopen(url, context=ctx)\n",
    "    data = uh.read().decode()\n",
    "    info = json.loads(data)\n",
    "    live = info['price'];\n",
    "    time.sleep(1)\n",
    "    return float(live)"
   ]
  },
  {
   "cell_type": "code",
   "execution_count": 101,
   "metadata": {},
   "outputs": [],
   "source": [
    "def main(args):\n",
    "    count = 0\n",
    "    total_profit = 0\n",
    "    t=0\n",
    "    history = []\n",
    "    reward = 0\n",
    "    price = []\n",
    "    window_size =10\n",
    "    time_now = datetime.datetime.now(tz).time()\n",
    "    url = 'https://api.binance.com/api/v1/ticker/price?symbol={}'.format(args.ticker)\n",
    "    live = Real(url)\n",
    "    print(live)\n",
    "\n",
    "    while(count < 10):\n",
    "        url = 'https://api.binance.com/api/v1/ticker/price?symbol={}'.format(args.ticker)\n",
    "        live = Real(url)\n",
    "        count+=1        \n",
    "        price.append(live)\n",
    "        if count < window_size:\n",
    "           continue\n",
    "        model_name='model_double-dqn_GOOG_50'  \n",
    "        print(live)\n",
    "        initial_offset = price[1] - price[0]\n",
    "        state = get_state(price, 0, window_size + 1)\n",
    "        next_state = get_state(price, t + 1, window_size + 1)\n",
    "        agent = Agent(state_size=window_size, pretrained=True, model_name=model_name)\n",
    "        agent.inventory = []\n",
    "        profit = evaluate_model(agent,state,next_state, price, t, total_profit, history, reward, window_size=window_size)\n",
    "        show_eval_result(model_name, profit, initial_offset)\n",
    "        t+=1\n",
    "        state = next_state"
   ]
  },
  {
   "cell_type": "code",
   "execution_count": 95,
   "metadata": {},
   "outputs": [],
   "source": [
    "def evaluate_model(agent, state, next_state, data, t, total_profit, history, reward, window_size, debug=False):\n",
    "  \n",
    "    print(t)\n",
    "        # select an action\n",
    "    action = agent.act(state, is_eval=True)\n",
    "\n",
    "        # BUY\n",
    "    if action == 1:\n",
    "        agent.inventory.append(data[t])\n",
    "\n",
    "        history.append((data[t], \"BUY\"))\n",
    "        if debug:\n",
    "            logging.debug(\"Buy at: {}\".format(format_currency(data[t])))\n",
    "\n",
    "        # SELL\n",
    "    elif action == 2 and len(agent.inventory) > 0:\n",
    "        bought_price = agent.inventory.pop(0)\n",
    "        delta = data[t] - bought_price\n",
    "        reward = delta #max(delta, 0)\n",
    "        total_profit += delta\n",
    "\n",
    "        history.append((data[t], \"SELL\"))\n",
    "        if debug:\n",
    "            logging.debug(\"Sell at: {} | Position: {}\".format(\n",
    "                    format_currency(data[t]), format_position(data[t] - bought_price)))\n",
    "        # HOLD\n",
    "    else:\n",
    "        history.append((data[t], \"HOLD\"))\n",
    "\n",
    "#        done = (t == data_length - 1)\n",
    "    agent.memory.append((state, action, reward, next_state))\n",
    "\n",
    "    return total_profit\n"
   ]
  },
  {
   "cell_type": "code",
   "execution_count": 102,
   "metadata": {
    "scrolled": false
   },
   "outputs": [
    {
     "name": "stderr",
     "output_type": "stream",
     "text": [
      "2020-05-25 22:21:00 darkdevil root[3432] DEBUG switching to TensorFlow for CPU\n"
     ]
    },
    {
     "name": "stdout",
     "output_type": "stream",
     "text": [
      "3.8678\n",
      "3.866\n"
     ]
    },
    {
     "name": "stderr",
     "output_type": "stream",
     "text": [
      "2020-05-25 22:21:15 darkdevil root[3432] INFO model_double-dqn_GOOG_50: USELESS\n",
      "\n"
     ]
    },
    {
     "name": "stdout",
     "output_type": "stream",
     "text": [
      "0\n"
     ]
    }
   ],
   "source": [
    "parser = argparse.ArgumentParser()\n",
    "parser.add_argument('LINKUSDT', help = 'ticker')\n",
    "coloredlogs.install(level=\"DEBUG\")\n",
    "switch_k_backend_device()\n",
    "args = argparse.Namespace(ticker='LINKUSDT')\n",
    "try:\n",
    "    main(args)\n",
    "except KeyboardInterrupt:\n",
    "    print(\"Aborted\")    "
   ]
  },
  {
   "cell_type": "code",
   "execution_count": null,
   "metadata": {},
   "outputs": [],
   "source": []
  },
  {
   "cell_type": "code",
   "execution_count": null,
   "metadata": {},
   "outputs": [],
   "source": []
  }
 ],
 "metadata": {
  "kernelspec": {
   "display_name": "Python 3",
   "language": "python",
   "name": "python3"
  },
  "language_info": {
   "codemirror_mode": {
    "name": "ipython",
    "version": 3
   },
   "file_extension": ".py",
   "mimetype": "text/x-python",
   "name": "python",
   "nbconvert_exporter": "python",
   "pygments_lexer": "ipython3",
   "version": "3.7.6"
  }
 },
 "nbformat": 4,
 "nbformat_minor": 4
}
