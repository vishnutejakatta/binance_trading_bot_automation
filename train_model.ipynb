{
 "cells": [
  {
   "cell_type": "code",
   "execution_count": 3,
   "metadata": {
    "scrolled": false
   },
   "outputs": [
    {
     "name": "stderr",
     "output_type": "stream",
     "text": [
      "2020-05-26 11:53:19 darkdevil root[16152] DEBUG switching to TensorFlow for CPU\n",
      "Episode 1/50: 100%|██████████| 598/598 [01:49<00:00,  5.44it/s]\n"
     ]
    },
    {
     "name": "stdout",
     "output_type": "stream",
     "text": [
      "[[0.5 0.5 0.5 0.5 0.5 0.5 0.5 0.5 0.5 0.5]]\n"
     ]
    },
    {
     "name": "stderr",
     "output_type": "stream",
     "text": [
      "2020-05-26 11:55:19 darkdevil root[16152] INFO Episode 1/50 - Train Position: -$2714.19  Val Position: -$28805.89  Train Loss: 48.4358)\n",
      "Episode 2/50: 100%|██████████| 598/598 [01:52<00:00,  5.30it/s]\n"
     ]
    },
    {
     "name": "stdout",
     "output_type": "stream",
     "text": [
      "[[0.5 0.5 0.5 0.5 0.5 0.5 0.5 0.5 0.5 0.5]]\n"
     ]
    },
    {
     "name": "stderr",
     "output_type": "stream",
     "text": [
      "2020-05-26 11:57:23 darkdevil root[16152] INFO Episode 2/50 - Train Position: -$4688.34  Val Position: +$3850.04  Train Loss: 69.3543)\n",
      "Episode 3/50: 100%|██████████| 598/598 [01:50<00:00,  5.42it/s]\n"
     ]
    },
    {
     "name": "stdout",
     "output_type": "stream",
     "text": [
      "[[0.5 0.5 0.5 0.5 0.5 0.5 0.5 0.5 0.5 0.5]]\n"
     ]
    },
    {
     "name": "stderr",
     "output_type": "stream",
     "text": [
      "2020-05-26 11:59:23 darkdevil root[16152] INFO Episode 3/50 - Train Position: +$12389.17  Val Position: -$5016.27  Train Loss: 61.8982)\n",
      "Episode 4/50: 100%|██████████| 598/598 [01:51<00:00,  5.36it/s]\n"
     ]
    },
    {
     "name": "stdout",
     "output_type": "stream",
     "text": [
      "[[0.5 0.5 0.5 0.5 0.5 0.5 0.5 0.5 0.5 0.5]]\n"
     ]
    },
    {
     "name": "stderr",
     "output_type": "stream",
     "text": [
      "2020-05-26 12:01:25 darkdevil root[16152] INFO Episode 4/50 - Train Position: -$8667.42  Val Position: -$20388.65  Train Loss: 67.4484)\n",
      "Episode 5/50: 100%|██████████| 598/598 [01:51<00:00,  5.36it/s]\n"
     ]
    },
    {
     "name": "stdout",
     "output_type": "stream",
     "text": [
      "[[0.5 0.5 0.5 0.5 0.5 0.5 0.5 0.5 0.5 0.5]]\n"
     ]
    },
    {
     "name": "stderr",
     "output_type": "stream",
     "text": [
      "2020-05-26 12:03:27 darkdevil root[16152] INFO Episode 5/50 - Train Position: +$4632.75  Val Position: -$761.50  Train Loss: 66.0094)\n",
      "Episode 6/50: 100%|██████████| 598/598 [01:51<00:00,  5.34it/s]\n"
     ]
    },
    {
     "name": "stdout",
     "output_type": "stream",
     "text": [
      "[[0.5 0.5 0.5 0.5 0.5 0.5 0.5 0.5 0.5 0.5]]\n"
     ]
    },
    {
     "name": "stderr",
     "output_type": "stream",
     "text": [
      "2020-05-26 12:05:30 darkdevil root[16152] INFO Episode 6/50 - Train Position: -$15653.96  Val Position: -$25033.08  Train Loss: 61.1570)\n",
      "Episode 7/50: 100%|██████████| 598/598 [01:53<00:00,  5.27it/s]\n"
     ]
    },
    {
     "name": "stdout",
     "output_type": "stream",
     "text": [
      "[[0.5 0.5 0.5 0.5 0.5 0.5 0.5 0.5 0.5 0.5]]\n"
     ]
    },
    {
     "name": "stderr",
     "output_type": "stream",
     "text": [
      "2020-05-26 12:07:34 darkdevil root[16152] INFO Episode 7/50 - Train Position: +$28368.25  Val Position: USELESS  Train Loss: 65.6383\n",
      "Episode 8/50: 100%|██████████| 598/598 [01:50<00:00,  5.41it/s]\n"
     ]
    },
    {
     "name": "stdout",
     "output_type": "stream",
     "text": [
      "[[0.5 0.5 0.5 0.5 0.5 0.5 0.5 0.5 0.5 0.5]]\n"
     ]
    },
    {
     "name": "stderr",
     "output_type": "stream",
     "text": [
      "2020-05-26 12:09:35 darkdevil root[16152] INFO Episode 8/50 - Train Position: +$13627.51  Val Position: +$3124.09  Train Loss: 60.8377)\n",
      "Episode 9/50: 100%|██████████| 598/598 [01:49<00:00,  5.46it/s]\n"
     ]
    },
    {
     "name": "stdout",
     "output_type": "stream",
     "text": [
      "[[0.5 0.5 0.5 0.5 0.5 0.5 0.5 0.5 0.5 0.5]]\n"
     ]
    },
    {
     "name": "stderr",
     "output_type": "stream",
     "text": [
      "2020-05-26 12:11:35 darkdevil root[16152] INFO Episode 9/50 - Train Position: +$4251.60  Val Position: -$13438.48  Train Loss: 60.5285)\n",
      "Episode 10/50: 100%|██████████| 598/598 [01:53<00:00,  5.28it/s]\n"
     ]
    },
    {
     "name": "stdout",
     "output_type": "stream",
     "text": [
      "[[0.5 0.5 0.5 0.5 0.5 0.5 0.5 0.5 0.5 0.5]]\n"
     ]
    },
    {
     "name": "stderr",
     "output_type": "stream",
     "text": [
      "2020-05-26 12:13:39 darkdevil root[16152] INFO Episode 10/50 - Train Position: +$18347.63  Val Position: -$6611.95  Train Loss: 59.9738)\n",
      "Episode 11/50: 100%|██████████| 598/598 [01:52<00:00,  5.34it/s]\n"
     ]
    },
    {
     "name": "stdout",
     "output_type": "stream",
     "text": [
      "[[0.5 0.5 0.5 0.5 0.5 0.5 0.5 0.5 0.5 0.5]]\n"
     ]
    },
    {
     "name": "stderr",
     "output_type": "stream",
     "text": [
      "2020-05-26 12:15:41 darkdevil root[16152] INFO Episode 11/50 - Train Position: -$5672.31  Val Position: -$19294.70  Train Loss: 56.2523)\n",
      "Episode 12/50: 100%|██████████| 598/598 [01:50<00:00,  5.42it/s]\n"
     ]
    },
    {
     "name": "stdout",
     "output_type": "stream",
     "text": [
      "[[0.5 0.5 0.5 0.5 0.5 0.5 0.5 0.5 0.5 0.5]]\n"
     ]
    },
    {
     "name": "stderr",
     "output_type": "stream",
     "text": [
      "2020-05-26 12:17:42 darkdevil root[16152] INFO Episode 12/50 - Train Position: +$10624.58  Val Position: -$14335.72  Train Loss: 58.2991)\n",
      "Episode 13/50: 100%|██████████| 598/598 [01:50<00:00,  5.42it/s]\n"
     ]
    },
    {
     "name": "stdout",
     "output_type": "stream",
     "text": [
      "[[0.5 0.5 0.5 0.5 0.5 0.5 0.5 0.5 0.5 0.5]]\n"
     ]
    },
    {
     "name": "stderr",
     "output_type": "stream",
     "text": [
      "2020-05-26 12:19:43 darkdevil root[16152] INFO Episode 13/50 - Train Position: -$6927.89  Val Position: -$21708.25  Train Loss: 59.4751)\n",
      "Episode 14/50: 100%|██████████| 598/598 [01:54<00:00,  5.23it/s]\n"
     ]
    },
    {
     "name": "stdout",
     "output_type": "stream",
     "text": [
      "[[0.5 0.5 0.5 0.5 0.5 0.5 0.5 0.5 0.5 0.5]]\n"
     ]
    },
    {
     "name": "stderr",
     "output_type": "stream",
     "text": [
      "2020-05-26 12:21:48 darkdevil root[16152] INFO Episode 14/50 - Train Position: -$3888.50  Val Position: -$11793.62  Train Loss: 55.7002)\n",
      "Episode 15/50: 100%|██████████| 598/598 [01:50<00:00,  5.40it/s]\n"
     ]
    },
    {
     "name": "stdout",
     "output_type": "stream",
     "text": [
      "[[0.5 0.5 0.5 0.5 0.5 0.5 0.5 0.5 0.5 0.5]]\n"
     ]
    },
    {
     "name": "stderr",
     "output_type": "stream",
     "text": [
      "2020-05-26 12:23:49 darkdevil root[16152] INFO Episode 15/50 - Train Position: -$2925.96  Val Position: +$7102.66  Train Loss: 55.6599)\n",
      "Episode 16/50: 100%|██████████| 598/598 [01:54<00:00,  5.23it/s]\n"
     ]
    },
    {
     "name": "stdout",
     "output_type": "stream",
     "text": [
      "[[0.5 0.5 0.5 0.5 0.5 0.5 0.5 0.5 0.5 0.5]]\n"
     ]
    },
    {
     "name": "stderr",
     "output_type": "stream",
     "text": [
      "2020-05-26 12:25:54 darkdevil root[16152] INFO Episode 16/50 - Train Position: +$16917.02  Val Position: USELESS  Train Loss: 52.9094\n",
      "Episode 17/50: 100%|██████████| 598/598 [01:52<00:00,  5.32it/s]\n"
     ]
    },
    {
     "name": "stdout",
     "output_type": "stream",
     "text": [
      "[[0.5 0.5 0.5 0.5 0.5 0.5 0.5 0.5 0.5 0.5]]\n"
     ]
    },
    {
     "name": "stderr",
     "output_type": "stream",
     "text": [
      "2020-05-26 12:27:56 darkdevil root[16152] INFO Episode 17/50 - Train Position: -$6852.66  Val Position: -$7258.72  Train Loss: 53.4076)\n",
      "Episode 18/50: 100%|██████████| 598/598 [01:51<00:00,  5.38it/s]\n"
     ]
    },
    {
     "name": "stdout",
     "output_type": "stream",
     "text": [
      "[[0.5 0.5 0.5 0.5 0.5 0.5 0.5 0.5 0.5 0.5]]\n"
     ]
    },
    {
     "name": "stderr",
     "output_type": "stream",
     "text": [
      "2020-05-26 12:29:58 darkdevil root[16152] INFO Episode 18/50 - Train Position: -$5875.53  Val Position: -$5507.58  Train Loss: 52.2446)\n",
      "Episode 19/50: 100%|██████████| 598/598 [01:54<00:00,  5.23it/s]\n"
     ]
    },
    {
     "name": "stdout",
     "output_type": "stream",
     "text": [
      "[[0.5 0.5 0.5 0.5 0.5 0.5 0.5 0.5 0.5 0.5]]\n"
     ]
    },
    {
     "name": "stderr",
     "output_type": "stream",
     "text": [
      "2020-05-26 12:32:03 darkdevil root[16152] INFO Episode 19/50 - Train Position: +$324.31  Val Position: -$4508.12  Train Loss: 53.2882)\n",
      "Episode 20/50: 100%|██████████| 598/598 [01:55<00:00,  5.19it/s]\n"
     ]
    },
    {
     "name": "stdout",
     "output_type": "stream",
     "text": [
      "[[0.5 0.5 0.5 0.5 0.5 0.5 0.5 0.5 0.5 0.5]]\n"
     ]
    },
    {
     "name": "stderr",
     "output_type": "stream",
     "text": [
      "2020-05-26 12:34:08 darkdevil root[16152] INFO Episode 20/50 - Train Position: -$4292.18  Val Position: -$3101.73  Train Loss: 51.2234)\n",
      "Episode 21/50: 100%|██████████| 598/598 [01:53<00:00,  5.25it/s]\n"
     ]
    },
    {
     "name": "stdout",
     "output_type": "stream",
     "text": [
      "[[0.5 0.5 0.5 0.5 0.5 0.5 0.5 0.5 0.5 0.5]]\n"
     ]
    },
    {
     "name": "stderr",
     "output_type": "stream",
     "text": [
      "2020-05-26 12:36:13 darkdevil root[16152] INFO Episode 21/50 - Train Position: +$26693.43  Val Position: -$10161.09  Train Loss: 50.4132)\n",
      "Episode 22/50: 100%|██████████| 598/598 [01:53<00:00,  5.27it/s]\n"
     ]
    },
    {
     "name": "stdout",
     "output_type": "stream",
     "text": [
      "[[0.5 0.5 0.5 0.5 0.5 0.5 0.5 0.5 0.5 0.5]]\n"
     ]
    },
    {
     "name": "stderr",
     "output_type": "stream",
     "text": [
      "2020-05-26 12:38:16 darkdevil root[16152] INFO Episode 22/50 - Train Position: +$17132.47  Val Position: USELESS  Train Loss: 50.5714\n",
      "Episode 23/50: 100%|██████████| 598/598 [01:52<00:00,  5.30it/s]\n"
     ]
    },
    {
     "name": "stdout",
     "output_type": "stream",
     "text": [
      "[[0.5 0.5 0.5 0.5 0.5 0.5 0.5 0.5 0.5 0.5]]\n"
     ]
    },
    {
     "name": "stderr",
     "output_type": "stream",
     "text": [
      "2020-05-26 12:40:20 darkdevil root[16152] INFO Episode 23/50 - Train Position: +$1391.17  Val Position: +$2865.08  Train Loss: 47.7873)\n",
      "Episode 24/50: 100%|██████████| 598/598 [01:54<00:00,  5.23it/s]\n"
     ]
    },
    {
     "name": "stdout",
     "output_type": "stream",
     "text": [
      "[[0.5 0.5 0.5 0.5 0.5 0.5 0.5 0.5 0.5 0.5]]\n"
     ]
    },
    {
     "name": "stderr",
     "output_type": "stream",
     "text": [
      "2020-05-26 12:42:24 darkdevil root[16152] INFO Episode 24/50 - Train Position: -$1895.99  Val Position: +$4731.87  Train Loss: 47.7607)\n",
      "Episode 25/50: 100%|██████████| 598/598 [01:52<00:00,  5.34it/s]\n"
     ]
    },
    {
     "name": "stdout",
     "output_type": "stream",
     "text": [
      "[[0.5 0.5 0.5 0.5 0.5 0.5 0.5 0.5 0.5 0.5]]\n"
     ]
    },
    {
     "name": "stderr",
     "output_type": "stream",
     "text": [
      "2020-05-26 12:44:27 darkdevil root[16152] INFO Episode 25/50 - Train Position: -$5760.91  Val Position: -$1299.18  Train Loss: 48.0779)\n",
      "Episode 26/50: 100%|██████████| 598/598 [01:51<00:00,  5.36it/s]\n"
     ]
    },
    {
     "name": "stdout",
     "output_type": "stream",
     "text": [
      "[[0.5 0.5 0.5 0.5 0.5 0.5 0.5 0.5 0.5 0.5]]\n"
     ]
    },
    {
     "name": "stderr",
     "output_type": "stream",
     "text": [
      "2020-05-26 12:46:29 darkdevil root[16152] INFO Episode 26/50 - Train Position: -$21174.69  Val Position: -$4075.31  Train Loss: 50.1166)\n",
      "Episode 27/50: 100%|██████████| 598/598 [01:53<00:00,  5.29it/s]\n"
     ]
    },
    {
     "name": "stdout",
     "output_type": "stream",
     "text": [
      "[[0.5 0.5 0.5 0.5 0.5 0.5 0.5 0.5 0.5 0.5]]\n"
     ]
    },
    {
     "name": "stderr",
     "output_type": "stream",
     "text": [
      "2020-05-26 12:48:32 darkdevil root[16152] INFO Episode 27/50 - Train Position: +$18257.67  Val Position: -$4035.69  Train Loss: 46.3080)\n",
      "Episode 28/50: 100%|██████████| 598/598 [01:53<00:00,  5.28it/s]\n"
     ]
    },
    {
     "name": "stdout",
     "output_type": "stream",
     "text": [
      "[[0.5 0.5 0.5 0.5 0.5 0.5 0.5 0.5 0.5 0.5]]\n"
     ]
    },
    {
     "name": "stderr",
     "output_type": "stream",
     "text": [
      "2020-05-26 12:50:36 darkdevil root[16152] INFO Episode 28/50 - Train Position: -$39650.57  Val Position: USELESS  Train Loss: 47.3173\n",
      "Episode 29/50: 100%|██████████| 598/598 [01:53<00:00,  5.27it/s]\n"
     ]
    },
    {
     "name": "stdout",
     "output_type": "stream",
     "text": [
      "[[0.5 0.5 0.5 0.5 0.5 0.5 0.5 0.5 0.5 0.5]]\n"
     ]
    },
    {
     "name": "stderr",
     "output_type": "stream",
     "text": [
      "2020-05-26 12:52:40 darkdevil root[16152] INFO Episode 29/50 - Train Position: -$38962.21  Val Position: USELESS  Train Loss: 46.7637\n",
      "Episode 30/50: 100%|██████████| 598/598 [01:53<00:00,  5.29it/s]\n"
     ]
    },
    {
     "name": "stdout",
     "output_type": "stream",
     "text": [
      "[[0.5 0.5 0.5 0.5 0.5 0.5 0.5 0.5 0.5 0.5]]\n"
     ]
    },
    {
     "name": "stderr",
     "output_type": "stream",
     "text": [
      "2020-05-26 12:54:44 darkdevil root[16152] INFO Episode 30/50 - Train Position: -$22370.08  Val Position: -$3622.75  Train Loss: 45.6664)\n",
      "Episode 31/50: 100%|██████████| 598/598 [01:53<00:00,  5.25it/s]\n"
     ]
    },
    {
     "name": "stdout",
     "output_type": "stream",
     "text": [
      "[[0.5 0.5 0.5 0.5 0.5 0.5 0.5 0.5 0.5 0.5]]\n"
     ]
    },
    {
     "name": "stderr",
     "output_type": "stream",
     "text": [
      "2020-05-26 12:56:48 darkdevil root[16152] INFO Episode 31/50 - Train Position: -$5469.72  Val Position: -$2591.50  Train Loss: 44.8857)\n",
      "Episode 32/50: 100%|██████████| 598/598 [01:53<00:00,  5.25it/s]\n"
     ]
    },
    {
     "name": "stdout",
     "output_type": "stream",
     "text": [
      "[[0.5 0.5 0.5 0.5 0.5 0.5 0.5 0.5 0.5 0.5]]\n"
     ]
    },
    {
     "name": "stderr",
     "output_type": "stream",
     "text": [
      "2020-05-26 12:58:52 darkdevil root[16152] INFO Episode 32/50 - Train Position: -$64618.24  Val Position: USELESS  Train Loss: 45.9883\n",
      "Episode 33/50: 100%|██████████| 598/598 [01:53<00:00,  5.28it/s]\n"
     ]
    },
    {
     "name": "stdout",
     "output_type": "stream",
     "text": [
      "[[0.5 0.5 0.5 0.5 0.5 0.5 0.5 0.5 0.5 0.5]]\n"
     ]
    },
    {
     "name": "stderr",
     "output_type": "stream",
     "text": [
      "2020-05-26 13:00:56 darkdevil root[16152] INFO Episode 33/50 - Train Position: -$27224.26  Val Position: -$9009.83  Train Loss: 43.6405)\n",
      "Episode 34/50: 100%|██████████| 598/598 [01:51<00:00,  5.35it/s]\n"
     ]
    },
    {
     "name": "stdout",
     "output_type": "stream",
     "text": [
      "[[0.5 0.5 0.5 0.5 0.5 0.5 0.5 0.5 0.5 0.5]]\n"
     ]
    },
    {
     "name": "stderr",
     "output_type": "stream",
     "text": [
      "2020-05-26 13:02:58 darkdevil root[16152] INFO Episode 34/50 - Train Position: -$23966.99  Val Position: USELESS  Train Loss: 41.6402\n",
      "Episode 35/50: 100%|██████████| 598/598 [01:54<00:00,  5.24it/s]\n"
     ]
    },
    {
     "name": "stdout",
     "output_type": "stream",
     "text": [
      "[[0.5 0.5 0.5 0.5 0.5 0.5 0.5 0.5 0.5 0.5]]\n"
     ]
    },
    {
     "name": "stderr",
     "output_type": "stream",
     "text": [
      "2020-05-26 13:05:03 darkdevil root[16152] INFO Episode 35/50 - Train Position: -$26523.61  Val Position: USELESS  Train Loss: 40.7143\n",
      "Episode 36/50: 100%|██████████| 598/598 [01:53<00:00,  5.26it/s]\n"
     ]
    },
    {
     "name": "stdout",
     "output_type": "stream",
     "text": [
      "[[0.5 0.5 0.5 0.5 0.5 0.5 0.5 0.5 0.5 0.5]]\n"
     ]
    },
    {
     "name": "stderr",
     "output_type": "stream",
     "text": [
      "2020-05-26 13:07:07 darkdevil root[16152] INFO Episode 36/50 - Train Position: -$15055.30  Val Position: -$1961.84  Train Loss: 38.6056)\n",
      "Episode 37/50: 100%|██████████| 598/598 [01:52<00:00,  5.34it/s]\n"
     ]
    },
    {
     "name": "stdout",
     "output_type": "stream",
     "text": [
      "[[0.5 0.5 0.5 0.5 0.5 0.5 0.5 0.5 0.5 0.5]]\n"
     ]
    },
    {
     "name": "stderr",
     "output_type": "stream",
     "text": [
      "2020-05-26 13:09:10 darkdevil root[16152] INFO Episode 37/50 - Train Position: -$28353.24  Val Position: USELESS  Train Loss: 35.9412\n",
      "Episode 38/50: 100%|██████████| 598/598 [01:54<00:00,  5.22it/s]\n"
     ]
    },
    {
     "name": "stdout",
     "output_type": "stream",
     "text": [
      "[[0.5 0.5 0.5 0.5 0.5 0.5 0.5 0.5 0.5 0.5]]\n"
     ]
    },
    {
     "name": "stderr",
     "output_type": "stream",
     "text": [
      "2020-05-26 13:11:14 darkdevil root[16152] INFO Episode 38/50 - Train Position: -$24240.23  Val Position: -$8946.35  Train Loss: 35.4174)\n",
      "Episode 39/50: 100%|██████████| 598/598 [01:53<00:00,  5.27it/s]\n"
     ]
    },
    {
     "name": "stdout",
     "output_type": "stream",
     "text": [
      "[[0.5 0.5 0.5 0.5 0.5 0.5 0.5 0.5 0.5 0.5]]\n"
     ]
    },
    {
     "name": "stderr",
     "output_type": "stream",
     "text": [
      "2020-05-26 13:13:18 darkdevil root[16152] INFO Episode 39/50 - Train Position: -$45657.33  Val Position: +$3417.37  Train Loss: 35.6469)\n",
      "Episode 40/50: 100%|██████████| 598/598 [01:53<00:00,  5.26it/s]\n"
     ]
    },
    {
     "name": "stdout",
     "output_type": "stream",
     "text": [
      "[[0.5 0.5 0.5 0.5 0.5 0.5 0.5 0.5 0.5 0.5]]\n"
     ]
    },
    {
     "name": "stderr",
     "output_type": "stream",
     "text": [
      "2020-05-26 13:15:23 darkdevil root[16152] INFO Episode 40/50 - Train Position: -$45587.71  Val Position: -$4307.97  Train Loss: 33.3835)\n",
      "Episode 41/50: 100%|██████████| 598/598 [01:56<00:00,  5.14it/s]\n"
     ]
    },
    {
     "name": "stdout",
     "output_type": "stream",
     "text": [
      "[[0.5 0.5 0.5 0.5 0.5 0.5 0.5 0.5 0.5 0.5]]\n"
     ]
    },
    {
     "name": "stderr",
     "output_type": "stream",
     "text": [
      "2020-05-26 13:17:29 darkdevil root[16152] INFO Episode 41/50 - Train Position: -$12772.71  Val Position: -$4792.80  Train Loss: 33.5494)\n",
      "Episode 42/50: 100%|██████████| 598/598 [01:55<00:00,  5.20it/s]\n"
     ]
    },
    {
     "name": "stdout",
     "output_type": "stream",
     "text": [
      "[[0.5 0.5 0.5 0.5 0.5 0.5 0.5 0.5 0.5 0.5]]\n"
     ]
    },
    {
     "name": "stderr",
     "output_type": "stream",
     "text": [
      "2020-05-26 13:19:35 darkdevil root[16152] INFO Episode 42/50 - Train Position: -$25044.06  Val Position: +$5212.70  Train Loss: 31.7253)\n",
      "Episode 43/50: 100%|██████████| 598/598 [01:53<00:00,  5.27it/s]\n"
     ]
    },
    {
     "name": "stdout",
     "output_type": "stream",
     "text": [
      "[[0.5 0.5 0.5 0.5 0.5 0.5 0.5 0.5 0.5 0.5]]\n"
     ]
    },
    {
     "name": "stderr",
     "output_type": "stream",
     "text": [
      "2020-05-26 13:21:39 darkdevil root[16152] INFO Episode 43/50 - Train Position: -$41274.69  Val Position: -$2885.14  Train Loss: 35.6379)\n",
      "Episode 44/50: 100%|██████████| 598/598 [01:54<00:00,  5.22it/s]\n"
     ]
    },
    {
     "name": "stdout",
     "output_type": "stream",
     "text": [
      "[[0.5 0.5 0.5 0.5 0.5 0.5 0.5 0.5 0.5 0.5]]\n"
     ]
    },
    {
     "name": "stderr",
     "output_type": "stream",
     "text": [
      "2020-05-26 13:23:44 darkdevil root[16152] INFO Episode 44/50 - Train Position: -$51911.33  Val Position: -$304.43  Train Loss: 33.6003)\n",
      "Episode 45/50: 100%|██████████| 598/598 [01:57<00:00,  5.11it/s]\n"
     ]
    },
    {
     "name": "stdout",
     "output_type": "stream",
     "text": [
      "[[0.5 0.5 0.5 0.5 0.5 0.5 0.5 0.5 0.5 0.5]]\n"
     ]
    },
    {
     "name": "stderr",
     "output_type": "stream",
     "text": [
      "2020-05-26 13:25:52 darkdevil root[16152] INFO Episode 45/50 - Train Position: +$4944.81  Val Position: -$5071.67  Train Loss: 32.8563)\n",
      "Episode 46/50: 100%|██████████| 598/598 [02:03<00:00,  4.86it/s]\n"
     ]
    },
    {
     "name": "stdout",
     "output_type": "stream",
     "text": [
      "[[0.5 0.5 0.5 0.5 0.5 0.5 0.5 0.5 0.5 0.5]]\n"
     ]
    },
    {
     "name": "stderr",
     "output_type": "stream",
     "text": [
      "2020-05-26 13:28:05 darkdevil root[16152] INFO Episode 46/50 - Train Position: -$19532.55  Val Position: -$5010.38  Train Loss: 33.4159)\n",
      "Episode 47/50: 100%|██████████| 598/598 [02:00<00:00,  4.98it/s]\n"
     ]
    },
    {
     "name": "stdout",
     "output_type": "stream",
     "text": [
      "[[0.5 0.5 0.5 0.5 0.5 0.5 0.5 0.5 0.5 0.5]]\n"
     ]
    },
    {
     "name": "stderr",
     "output_type": "stream",
     "text": [
      "2020-05-26 13:30:16 darkdevil root[16152] INFO Episode 47/50 - Train Position: -$18170.93  Val Position: -$2749.19  Train Loss: 37.2983)\n",
      "Episode 48/50: 100%|██████████| 598/598 [02:02<00:00,  4.89it/s]\n"
     ]
    },
    {
     "name": "stdout",
     "output_type": "stream",
     "text": [
      "[[0.5 0.5 0.5 0.5 0.5 0.5 0.5 0.5 0.5 0.5]]\n"
     ]
    },
    {
     "name": "stderr",
     "output_type": "stream",
     "text": [
      "2020-05-26 13:32:29 darkdevil root[16152] INFO Episode 48/50 - Train Position: -$29005.37  Val Position: -$3247.88  Train Loss: 35.2887)\n",
      "Episode 49/50: 100%|██████████| 598/598 [02:01<00:00,  4.93it/s]\n"
     ]
    },
    {
     "name": "stdout",
     "output_type": "stream",
     "text": [
      "[[0.5 0.5 0.5 0.5 0.5 0.5 0.5 0.5 0.5 0.5]]\n"
     ]
    },
    {
     "name": "stderr",
     "output_type": "stream",
     "text": [
      "2020-05-26 13:34:40 darkdevil root[16152] INFO Episode 49/50 - Train Position: -$14514.80  Val Position: +$2118.70  Train Loss: 32.1379)\n",
      "Episode 50/50: 100%|██████████| 598/598 [02:07<00:00,  4.67it/s]\n"
     ]
    },
    {
     "name": "stdout",
     "output_type": "stream",
     "text": [
      "[[0.5 0.5 0.5 0.5 0.5 0.5 0.5 0.5 0.5 0.5]]\n"
     ]
    },
    {
     "name": "stderr",
     "output_type": "stream",
     "text": [
      "2020-05-26 13:36:59 darkdevil root[16152] INFO Episode 50/50 - Train Position: -$3926.49  Val Position: -$772.59  Train Loss: 33.6674)\n"
     ]
    },
    {
     "name": "stdout",
     "output_type": "stream",
     "text": [
      "TRAINING THE MODEL COMPLETED!!!\n"
     ]
    }
   ],
   "source": [
    "\"\"\"\n",
    "Script for training Stock Trading Bot.\n",
    "\n",
    "Usage:\n",
    "  train.py <train-stock> <val-stock> [--strategy=<strategy>]\n",
    "    [--window-size=<window-size>] [--batch-size=<batch-size>]\n",
    "    [--episode-count=<episode-count>] [--model-name=<model-name>]\n",
    "    [--pretrained] [--debug]\n",
    "\n",
    "Options:\n",
    "  --strategy=<strategy>             Q-learning strategy to use for training the network. Options:\n",
    "                                      `dqn` i.e. Vanilla DQN,\n",
    "                                      `t-dqn` i.e. DQN with fixed target distribution,\n",
    "                                      `double-dqn` i.e. DQN with separate network for value estimation. [default: t-dqn]\n",
    "  --window-size=<window-size>       Size of the n-day window stock data representation\n",
    "                                    used as the feature vector. [default: 10]\n",
    "  --batch-size=<batch-size>         Number of samples to train on in one mini-batch\n",
    "                                    during training. [default: 32]\n",
    "  --episode-count=<episode-count>   Number of trading episodes to use for training. [default: 50]\n",
    "  --model-name=<model-name>         Name of the pretrained model to use. [default: model_debug]\n",
    "  --pretrained                      Specifies whether to continue training a previously\n",
    "                                    trained model (reads `model-name`).\n",
    "  --debug                           Specifies whether to use verbose logs during eval operation.\n",
    "\"\"\"\n",
    "\n",
    "import logging\n",
    "import coloredlogs\n",
    "from docopt import docopt\n",
    "from trading_bot.agent import Agent\n",
    "from trading_bot.methods import train_model, evaluate_model\n",
    "from trading_bot.utils import (\n",
    "    get_stock_data,\n",
    "    format_currency,\n",
    "    format_position,\n",
    "    show_train_result,\n",
    "    switch_k_backend_device\n",
    ")\n",
    "\n",
    "def main(train_stock, val_stock, window_size, batch_size, ep_count,\n",
    "         strategy=\"t-dqn\", model_name=\"model_double-dqn_GOOG_50\", pretrained=False,\n",
    "         debug=False):\n",
    "    \"\"\" Trains the stock trading bot using Deep Q-Learning.\n",
    "    Please see https://arxiv.org/abs/1312.5602 for more details.\n",
    "\n",
    "    Args: [python train.py --help]\n",
    "    \"\"\"\n",
    "    agent = Agent(window_size, strategy=strategy, pretrained=pretrained, model_name=model_name)\n",
    "    \n",
    "    train_data = get_stock_data(train_stock)\n",
    "    val_data = get_stock_data(val_stock)\n",
    "\n",
    "    initial_offset = val_data[1] - val_data[0]\n",
    "\n",
    "    for episode in range(1, ep_count + 1):\n",
    "        train_result = train_model(agent, episode, train_data, ep_count=ep_count,\n",
    "                                   batch_size=batch_size, window_size=window_size)\n",
    "        val_result, _ = evaluate_model(agent, val_data, window_size, debug)\n",
    "        show_train_result(train_result, val_result, initial_offset)\n",
    "\n",
    "if __name__ == \"__main__\":\n",
    "    coloredlogs.install(level=\"DEBUG\")\n",
    "    switch_k_backend_device()\n",
    "    train_stock = \"data/BTCUSDT_TRAINING.csv\"\n",
    "    val_stock = \"data/BTCUSDT_TESTING.csv\"\n",
    "    strategy = \"double-dqn\"\n",
    "    model_name = \"model_double-dqn_GOOG_50\"\n",
    "    window_size = 10\n",
    "    batch_size = 32\n",
    "    ep_count = 50\n",
    "    pretrained = False\n",
    "    debug = False\n",
    "    try:\n",
    "        main(train_stock, val_stock, window_size, batch_size,\n",
    "             ep_count, strategy=strategy, model_name=model_name, \n",
    "             pretrained=pretrained, debug=debug)\n",
    "        print(\"TRAINING THE MODEL COMPLETED!!!\")\n",
    "    except KeyboardInterrupt:\n",
    "        print(\"Aborted!\")"
   ]
  },
  {
   "cell_type": "code",
   "execution_count": null,
   "metadata": {},
   "outputs": [],
   "source": []
  }
 ],
 "metadata": {
  "kernelspec": {
   "display_name": "Python 3",
   "language": "python",
   "name": "python3"
  },
  "language_info": {
   "codemirror_mode": {
    "name": "ipython",
    "version": 3
   },
   "file_extension": ".py",
   "mimetype": "text/x-python",
   "name": "python",
   "nbconvert_exporter": "python",
   "pygments_lexer": "ipython3",
   "version": "3.7.6"
  }
 },
 "nbformat": 4,
 "nbformat_minor": 4
}
